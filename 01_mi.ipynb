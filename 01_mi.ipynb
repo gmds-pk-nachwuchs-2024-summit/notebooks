{
  "nbformat": 4,
  "nbformat_minor": 0,
  "metadata": {
    "colab": {
      "provenance": [],
      "toc_visible": true
    },
    "kernelspec": {
      "name": "ir",
      "display_name": "R"
    },
    "language_info": {
      "name": "R"
    }
  },
  "cells": [
    {
      "cell_type": "markdown",
      "source": [
        "# Block 1: Medizininformatik\n",
        "\n",
        "Eure Ansprechpartner sind Hannes Ulrich und Joshua Wiedekopf.\n",
        "\n",
        "In diesem Block geht es darum, die Daten aus der TCGA-Studie aus disjunkten Quellen in ein Format zu bringen, mit dem in den folgenden Blöcken weiter gearbeitet werden kann.\n",
        "\n",
        "Hierzu werden wir auf einen FHIR-Server zugreifen, um die Patientendaten abzurufen, während die klinischen Daten im CSV-Format vorliegen."
      ],
      "metadata": {
        "id": "5XGL5xs2HFk0"
      }
    },
    {
      "cell_type": "markdown",
      "source": [
        "## Pakete laden und installieren\n",
        "\n",
        "**Dieser Block muss einmal unbedingt ausgeführt werden, damit in Eurer Runtime die notwendigen Pakete zur Verfügung stehen!**"
      ],
      "metadata": {
        "id": "L5YuIf6sH4mj"
      }
    },
    {
      "cell_type": "code",
      "source": [
        "#@title Pakete installieren\n",
        "install.packages(\"fhircrackr\")\n",
        "install.packages(\"assertthat\")\n",
        "install.packages(\"assertr\")"
      ],
      "metadata": {
        "id": "YDC-iOYIH6On"
      },
      "execution_count": null,
      "outputs": []
    },
    {
      "cell_type": "markdown",
      "source": [
        "Sollten Konflikte gemeldet werden, ist dies in der Regel in Ordnung."
      ],
      "metadata": {
        "id": "jHTzKCIvIxVP"
      }
    },
    {
      "cell_type": "code",
      "source": [
        "#@title Pakete laden\n",
        "library(assertthat)\n",
        "library(fhircrackr)\n",
        "library(tidyverse)\n",
        "library(glue)\n",
        "library(assertr)"
      ],
      "metadata": {
        "id": "uUD-K96UH37r"
      },
      "execution_count": null,
      "outputs": []
    },
    {
      "cell_type": "code",
      "source": [
        "#@title Hilfsfunktionen\n",
        "fill_me <- function(name, description=\"\") {\n",
        "  error_msg = glue(\"Die Variable/der Parameter '{name}' ist nicht gefüllt: {description}\")\n",
        "  stop(error_msg)\n",
        "}\n",
        "fun_me <- function(description) {\n",
        "  error_msg = glue(\"Hier fehlt ein Funktionsaufruf: {description}\")\n",
        "  stop(error_msg)\n",
        "}\n",
        "test <- function(count=1, fun) {\n",
        "  fun()\n",
        "  print(ifelse(count == 1, \"1 Test erfolgreich\", str_glue(\"{count} Tests erfolgreich\")))\n",
        "}\n"
      ],
      "metadata": {
        "id": "ULTTyAzn_jHx"
      },
      "execution_count": 41,
      "outputs": []
    },
    {
      "cell_type": "markdown",
      "source": [
        "## Daten laden vom FHIR-Server\n",
        "\n",
        "Habt ihr Probleme bei der Umsetzung dieser Aufgabe, ist die [Dokumentation von HL7 FHIR 🇬🇧](https://hl7.org/fhir/R5/) hilfreich. Insbesondere die folgenden Seiten können wichtig sein:\n",
        "- [FHIR Search](https://hl7.org/fhir/R5/search.html)\n",
        "- [Ressource *Patient*](https://hl7.org/fhir/R5/patient.html)\n",
        "- [Ressource *Condition*](https://hl7.org/fhir/R5/condition.html)\n",
        "- [Ressource *Observation*](https://hl7.org/fhir/R5/observation.html)\n",
        "- [Ressource *ResearchStudy*](https://hl7.org/fhir/R5/researchstudy.html)\n",
        "- [Ressource *ResearchSubject*](https://hl7.org/fhir/R5/researchsubject.html)\n",
        "\n",
        "Darüber hinaus ist die [Dokumentation vom `fhircrackr`-R-Paket 🇬🇧](https://cran.r-project.org/web/packages/fhircrackr) sehr hilfreich:\n",
        "- [Download FHIR resources](https://cran.r-project.org/web/packages/fhircrackr/vignettes/downloadResources.html)\n"
      ],
      "metadata": {
        "id": "hTaTQlupI497"
      }
    },
    {
      "cell_type": "code",
      "source": [
        "#@title Endpunkt-Variable festlegen\n",
        "endpoint=\"https://fhir.imi.uni-luebeck.de/fhir/\"\n",
        "# die Adresse unseres FHIR-Servers. Unter https://fhir.imi.uni-luebeck.de ist auch eine einfache GUI verfügbar."
      ],
      "metadata": {
        "id": "su0Ji8iDI4d2"
      },
      "execution_count": null,
      "outputs": []
    },
    {
      "cell_type": "markdown",
      "source": [
        "## Aufgabe 1\n",
        "\n",
        "Ladet alle Ressourcen vom Typ `ResearchStudy` mit folgendem Identifier:\n",
        "- `system` = `https://www.cbioportal.org/study`\n",
        "- `value`  = `paad_tcga_pan_can_atlas_2018`\n",
        "\n",
        "Dabei sollte genau eine Ressource gefunden werden."
      ],
      "metadata": {
        "id": "dpSB2ZU1KwUA"
      }
    },
    {
      "cell_type": "code",
      "source": [
        "#@title A1: Erste Anfrage nach der ResearchStudy\n",
        "request <- fhir_url(\n",
        "  url = endpoint,\n",
        "  resource = fill_me(\"resource\", \"Hier soll der ResourceType, den wir suchen, rein\"),\n",
        "  parameters = list(\n",
        "    fill_me(\"parameters\", \"Hier können Suchparameter angegeben werden.\")\n",
        "  )\n",
        ")\n",
        "studies_bundle <- fun_me(\"Die Suchanfrage muss noch an den Server geschickt werden\")\n",
        "str(studies_bundle) # Gibt die Datenstruktur aus, mit der wir arbeiten\n",
        "head(studies_bundle) # gibt die ersten paar Zeilen aus"
      ],
      "metadata": {
        "id": "q1mHJ9amAixe"
      },
      "execution_count": null,
      "outputs": []
    },
    {
      "cell_type": "code",
      "execution_count": null,
      "metadata": {
        "id": "jruSf4suHDA3",
        "cellView": "form"
      },
      "outputs": [],
      "source": [
        "#@title Lösung von Aufgabe 1\n",
        "request <- fhir_url(\n",
        "  url = endpoint,\n",
        "  resource = \"ResearchStudy\",\n",
        "  parameters = list(\n",
        "    \"identifier\" = \"https://www.cbioportal.org/study|paad_tcga_pan_can_atlas_2018\"\n",
        "  )\n",
        ")\n",
        "studies_bundle <- fhir_search(request, verbose=0)\n",
        "str(studies_bundle)\n",
        "head(studies_bundle)"
      ]
    },
    {
      "cell_type": "code",
      "source": [
        "#@title Test der Lösung\n",
        "test(count=2, fun=function() {\n",
        "  assert_that(length(studies_bundle) == 1)\n",
        "  assert_that(is(studies_bundle, \"fhir_bundle_list\"))\n",
        "})"
      ],
      "metadata": {
        "id": "1RKR8R_F7jKf",
        "cellView": "form"
      },
      "execution_count": null,
      "outputs": []
    },
    {
      "cell_type": "markdown",
      "source": [
        "## Aufgabe 2\n",
        "\n",
        "Gut, jetzt haben wir ein FHIR-Bundle. Damit wir innerhalb von R damit auch arbeiten können, verwenden wir die `fhir_crack`-Funktion von `fhircrackr`, um die Daten in die R-native Datenstruktur `dataframe` zu bekommen.\n",
        "\n",
        "Das \"Flachklopfen\" der FHIR-Ressourcen ist in der Dokumentation von `fhircrackr` [beschrieben](https://cran.r-project.org/web/packages/fhircrackr/vignettes/fhircrackr_intro.html#flattening-resources).\n",
        "\n",
        "Es muss also eine Tabellen-Definition erstellt werden und dann diese Definition auf unser Bundle angewendet werden. Uns interessiert nicht alles, sogar fast das meiste nicht. Daher können wir die Spaltendefinitionen relativ knapp fassen. Damit FHIR-Referenzen aufgelöst werden können, benötigen wir die technische `id` der ResearchStudy. Damit wir selber mit dem DataFrame etwas anfangen können, geben wir noch den `name` und die Komponenten des `identifier` aus.\n",
        "\n",
        "**Achtung Verwechslungsgefahr**: In FHIR gibt es häufig sowohl eine technische ID (meist im Parameter `id`), unter der die Ressource auf einem Server verfügbar ist, und mittels derer Ressourcen verlinkt werden, als auch eine oder mehrere logische IDs, die auf Basis bestimmter Regeln, teilweise auch durch Externe, vergeben werden. Beispiel für Patienten: Die FHIR-Ressource für die Patientin [`Grace B. Hopper`](https://en.wikipedia.org/wiki/Grace_Hopper) ist auf einem FHIR-Server unter der ID `facade00-0000-4000-a000-000000000000` verfügbar, auf einem anderen Server aber unter der ID `c0c0a000-0000-4000-a000-000000000000`. Beide identifieren die Person in der Anwendungssoftware aufgrund ihres logischen Identifiers:\n",
        "\n",
        "```json\n",
        "{\n",
        "  \"resourceType\": \"Patient\",\n",
        "  \"id\": \"facade00-0000-4000-a000-000000000000\"\n",
        "  \"identifier\": [\n",
        "    {\n",
        "      \"system\": \"http://iau.org/working-group-for-small-bodies-nomenclature\",\n",
        "      \"value: \"5773 Hopper\",\n",
        "      \"type\": {\n",
        "        \"text\": \"A minor planet has been named after this person\"\n",
        "      }\n",
        "    }\n",
        "  ],\n",
        "  \"name\": [\n",
        "    {\n",
        "      \"given\": [\"Grace\", \"Brewster\"],\n",
        "      \"family\": \"Hopper\",\n",
        "      \"use\": \"official\"\n",
        "    }\n",
        "  ]\n",
        "}\n",
        "```\n",
        "\n",
        "Es ist möglich, in FHIR Referenzen aufgrund logischer IDs zu vergebenen, die meisten FHIR-Server lösen diese aber nicht zur Laufzeit auf. Daher wird die technische ID zur Referenzierung verwendet.\n",
        "\n",
        "### Zielschema\n",
        "\n",
        "#### ResearchStudy\n",
        "\n",
        "| id | name | identifier_system | identifier_value |\n",
        "|---|---|---|---|\n",
        "| chr \\| num | chr | chr | chr |"
      ],
      "metadata": {
        "id": "AEFztCSm6pus"
      }
    },
    {
      "cell_type": "code",
      "source": [
        "#@title A2: `fhir_crack` verwenden\n",
        "table_description_studies <- fhir_table_description(\n",
        "  resource=fill_me('resource', 'hier soll wieder der ResourceType rein'),\n",
        "  cols=c(\n",
        "    fill_me('Ausgabespalte', 'erste Spalte?')=fill_me('XPath-Ausdruck für die erste Spalte im FHIR-XML'),\n",
        "    fill_me('Ausgabespalte', 'zweite Spalte?')=fill_me('XPath-Ausdruck für die zweite Spalte im FHIR-XML')#,\n",
        "    #...\n",
        "  )\n",
        ")\n",
        "studies <- fhir_crack(bundles=studies_bundle, design=table_description_studies, verbose=0)\n",
        "studies\n",
        "study_id = fun_me(\"In dieser Variable soll am Ende genau eine Study-ID (FHIR-ID) stehen.\")"
      ],
      "metadata": {
        "id": "DJa3G7EwaY4E"
      },
      "execution_count": null,
      "outputs": []
    },
    {
      "cell_type": "code",
      "source": [
        "#@title Lösung von Aufgabe 2\n",
        "table_description_studies <- fhir_table_description(\n",
        "  resource=\"ResearchStudy\",\n",
        "  cols=c(\n",
        "    id=\"id\",\n",
        "    name=\"name\",\n",
        "    identifier_system=\"identifier/system\",\n",
        "    identifier_value=\"identifier/value\"\n",
        "  )\n",
        ")\n",
        "studies <- fhir_crack(bundles=studies_bundle, design=table_description_studies, verbose=0)\n",
        "studies\n",
        "study_id = (studies$id)[1]"
      ],
      "metadata": {
        "id": "05y9RZlQ-9hX",
        "cellView": "form"
      },
      "execution_count": null,
      "outputs": []
    },
    {
      "cell_type": "code",
      "source": [
        "#@title Test der Lösung\n",
        "test(count=3, fun=function() {\n",
        "  studies |>\n",
        "    verify(has_all_names(\"id\", \"name\")) |>\n",
        "    verify(identifier_value == 'paad_tcga_pan_can_atlas_2018')\n",
        "  assert_that(nrow(studies) == 1)\n",
        "})"
      ],
      "metadata": {
        "id": "uUabjP7wGH9A",
        "cellView": "form"
      },
      "execution_count": null,
      "outputs": []
    },
    {
      "cell_type": "markdown",
      "source": [
        "## Aufgabe 3\n",
        "\n",
        "Wir haben jetzt eine Referenz auf die ResearchStudy, sodass wir auf Basis dieser nach den inkludierten Patienten suchen können - andere Patienten wollen wir natürlich nicht abfragen, weil wir es nicht dürfen 😎.\n",
        "\n",
        "Die Teilnahme eines Patienten ist an die Ressource `ResearchSubject` geknüpft, die Brücke zwischen `ResearchStudy` und `Patient`. In `ResearchSubject` wird eine studieninterne ID zugewiesen, die wir benötigen, in `Patient` ist neben `gender` und `deceased` auch die ID relevant, damit wir über diese die Prozedur- und Diagnose-Ressourcen im nächsten Schritt anfragen können. Später werden wir die interne Patienten-ID wieder aus dem Datensatz entfernen, damit uns keine direkte Reidentifikation der Patienten in unserer weiteren Forschung möglich ist.\n",
        "\n",
        "Wir werden also die `ResearchSubject`-Ressourcen, die auf unsere `ResearchStudy` verweisen, anfragen. Danach fragen wir die Patienten an, die in `ResearchSubject` referenziert werden. Das ist aber umständlich, daher nutzen wir die [Möglichkeit des `include`-Parameters](https://www.hl7.org/fhir/search.html#_revinclude), um die referenzierten Patienten direkt mit auszugeben.\n",
        "\n",
        "Dies wird auch [durch fhircrackr unterstützt](https://cran.r-project.org/web/packages/fhircrackr/vignettes/flattenResources.html#extracting-more-than-one-resource-type).\n",
        "\n",
        "Zur Datenmanipulation sind Pipes `|>` und das Paket `dyplr` sehr hilfreich:\n",
        "\n",
        "```r\n",
        "data |>\n",
        "  filter(x='foo') |>\n",
        "  mutate(y=x+3)\n",
        "```\n",
        "\n",
        "Mehr Informationen dazu im [Data Wrangling Cheat Sheet](https://www.rstudio.com/wp-content/uploads/2015/02/data-wrangling-cheatsheet.pdf) von `dplyr`.\n",
        "\n",
        "---\n",
        "\n",
        "Am Ende soll ein Data Frame mit den Daten aus dem `ResearchSubject` und den Daten aus dem `Patient`. Wir müssen die Daten also joinen:\n",
        "\n",
        "![Join-Typen](https://www.ionos.at/digitalguide/fileadmin/DigitalGuide/Screenshots/DE-SQL-Join-Typen.png)\n",
        "\n",
        "*Bildquelle: IONOS, https://www.ionos.at/digitalguide/hosting/hosting-technik/sql-join/*\n",
        "\n",
        "---\n",
        "\n",
        "### Zielschemata:\n",
        "\n",
        "#### ResearchSubject\n",
        "\n",
        "| subject_id | patient_id | subject_identifier_system | subject_identifier_value |\n",
        "|---|---|---|---|\n",
        "| chr \\| num | chr \\| num | chr | chr |\n",
        "\n",
        "#### Patient\n",
        "\n",
        "| patient_id | deceasedBoolean | gender |\n",
        "|---|---|---|\n",
        "| chr \\| num | logi | chr |\n",
        "\n",
        "*Beachte: Den Identifier des Patienten sollten wir lieber nicht anfragen!*"
      ],
      "metadata": {
        "id": "P91WQZ_YRoVy"
      }
    },
    {
      "cell_type": "code",
      "source": [
        "#@title A3: ResearchSubject und Patient anfragen und joinen\n",
        "subject_patient_url <- fhir_url(\n",
        "  url = endpoint,\n",
        "  resource = fill_me(\"ResourceType\"),\n",
        "  parameters = list(\n",
        "    \"study\"=fill_me(\"Filter auf Studie\", \"Wir wollen nur ResearchSubject für unsere Studie\"),\n",
        "    \"_include\"=fill_me(\"Include\", \"Wir wollen die referenzierten Patienten mit in der Ausgabe\")\n",
        "  )\n",
        ")\n",
        "\n",
        "subject_bundle <- fhir_search(subject_patient_url, verbose=0)\n",
        "res_subject_design <- fhir_table_description(\n",
        "  resource = fill_me(\"ResourceType\"),\n",
        "  cols=fill_me(\"cols\", \"Mapping für das erste Design\")\n",
        ")\n",
        "pat_design <- fhir_table_description(\n",
        "  resource = fill_me(\"ResourceType\"),\n",
        "  cols=fill_me(\"cols\", \"Mapping für das zweite Design\")\n",
        ")\n",
        "\n",
        "combined_design <- fhir_design(ResearchSubject=res_subject_design, Patient=pat_design)\n",
        "data <- fhir_crack(bundles=subject_bundle, design=combined_design, verbose=0)\n",
        "\n",
        "# Reduktion auf die nötigsten Daten und leichte Manipulationen in einer Spalte (um einen einfacheren Join zu machen)\n",
        "research_subject_data <- data$ResearchSubject |>\n",
        "  mutate(patient_id=fun_me(\"Präfix 'Patient/' in der Spalte patient_id entfernen\"))\n",
        "#Datentypanpassung in einer Spalte\n",
        "patient_data <- data$Patient |>\n",
        "  mutate(deceasedBoolean=fun_me(\"Datentyp der Spalte deceasedBoolean soll logi sein, nicht chr\"))\n",
        "\n",
        "joined_subject_data <- research_subject_data |>\n",
        "  fun_me('join-typ', by=fill_me('Join-bedingung'))\n",
        "head(joined_subject_data)"
      ],
      "metadata": {
        "id": "UfoBRR_2jRTg"
      },
      "execution_count": null,
      "outputs": []
    },
    {
      "cell_type": "code",
      "source": [
        "#@title Lösung von Aufgabe 3\n",
        "subject_patient_url <- fhir_url(\n",
        "  url = endpoint,\n",
        "  resource = \"ResearchSubject\",\n",
        "  parameters = list(\n",
        "    \"study\"=glue(\"ResearchStudy/{study_id}\"),\n",
        "    \"_include\"=\"ResearchSubject:patient\"\n",
        "  )\n",
        ")\n",
        "\n",
        "subject_bundle <- fhir_search(subject_patient_url, verbose=0)\n",
        "res_subject_design <- fhir_table_description(\n",
        "  resource = \"ResearchSubject\",\n",
        "  cols=c(\n",
        "    subject_id=\"id\",\n",
        "    patient_id=\"subject/reference\",\n",
        "    subject_identifier_system=\"identifier/system\",\n",
        "    subject_identifier_value=\"identifier/value\"\n",
        "  )\n",
        ")\n",
        "pat_design <- fhir_table_description(\n",
        "  resource = \"Patient\",\n",
        "  cols=c(\n",
        "    patient_id=\"id\",\n",
        "    deceasedBoolean=\"deceasedBoolean\",\n",
        "    gender=\"gender\"\n",
        "  )\n",
        ")\n",
        "\n",
        "combined_design <- fhir_design(ResearchSubject=res_subject_design, Patient=pat_design)\n",
        "data <- fhir_crack(bundles=subject_bundle, design=combined_design, verbose=0)\n",
        "\n",
        "# Reduktion auf die nötigsten Daten und leichte Manipulationen in einer Spalte (um einen einfacheren Join zu machen)\n",
        "research_subject_data <- data$ResearchSubject |>\n",
        "  mutate(patient_id=gsub(\"Patient/\", \"\", patient_id))\n",
        "#Datentypanpassung in einer Spalte\n",
        "patient_data <- data$Patient |>\n",
        "  mutate(deceasedBoolean=as.logical(deceasedBoolean))\n",
        "\n",
        "str(patient_data)\n",
        "\n",
        "joined_subject_data <- research_subject_data |>\n",
        "  left_join(patient_data, by=\"patient_id\")\n",
        "head(joined_subject_data)"
      ],
      "metadata": {
        "id": "_VnRTwp9JIqQ",
        "cellView": "form"
      },
      "execution_count": null,
      "outputs": []
    },
    {
      "cell_type": "code",
      "source": [
        "#@title Test der Lösung\n",
        "test(count=4, fun=function() {\n",
        "  joined_subject_data |>\n",
        "    verify(has_all_names(\"subject_id\", \"patient_id\", \"subject_identifier_value\", \"subject_identifier_system\", \"deceasedBoolean\", \"gender\")) |>\n",
        "    verify(any(patient_id == 12)) |>\n",
        "    verify(any(subject_id == 20))\n",
        "  assert_that(nrow(joined_subject_data) > 20)\n",
        "})"
      ],
      "metadata": {
        "id": "F1Rfz7dCPdLS",
        "cellView": "form"
      },
      "execution_count": null,
      "outputs": []
    },
    {
      "cell_type": "markdown",
      "source": [
        "## Aufgabe 4\n",
        "\n"
      ],
      "metadata": {
        "id": "ib41b6FUlKQZ"
      }
    },
    {
      "cell_type": "markdown",
      "source": [
        "Nun wollen wir die mit den Patienten verknüpften Conditions und Procedures anfragen. Letztendlich ist hier viel ähnliches zu der vorherigen Aufgabe dabei.\n",
        "\n",
        "Am Ende dieser Aufgabe haben wir eine große Tabelle, bei der alle im FHIR-Repository vorliegenden Daten in den Spalten auftauchen, die uns aber keine direkten Verweise zu den Ressourcen mehr gibt. Lediglich das Studien-Pseudonym darf noch die Person identifizieren.\n",
        "\n",
        "---\n",
        "\n",
        "### Zielschemata\n",
        "\n",
        "#### Condition\n",
        "\n",
        "| condition_id | patient_id | condition_code | condition_display | condition_onsetAge_unit | condition_onsetAge_value |\n",
        "|---|---|---|---|---|---|\n",
        "| chr \\| num | chr \\| num | chr | chr | chr | num |\n",
        "\n",
        "#### Procedure\n",
        "\n",
        "| procedure_id | patient_id | procedure_code | procedure_display | procedure_system |\n",
        "|---|---|---|---|---|\n",
        "| chr \\| num | chr \\| num | chr | chr | chr |\n",
        "\n",
        "#### Join-Schema (Spalten sind Zeilen...)\n",
        "\n",
        "| Spalte | Datentyp |\n",
        "|---|---|\n",
        "| subject_identifier_system | chr |\n",
        "| subject_identifier_value | chr |\n",
        "| deceasedBoolean | logi |\n",
        "| gender | chr \\| factor |\n",
        "| condition_code | chr |\n",
        "| condition_display | chr |\n",
        "| condition_onsetAge_unit | chr |\n",
        "| condition_onsetAge_value | num |\n",
        "| procedure_code | chr |\n",
        "| procedure_display | chr |\n",
        "| procedure_system | chr |"
      ],
      "metadata": {
        "id": "Mf6MM6dKPKNb"
      }
    },
    {
      "cell_type": "code",
      "source": [
        "#@title A4: Condition und Procedure anfragen\n",
        "patient_id_join <- fun_me(\"Alle Patienten-IDs zusammenfügen, damit nur deren Daten angefragt werden\")\n",
        "condition_url <- fun_me(\"FHIR-Url für die Suche nach Conditions mit Beschränkung auf das Subject\")\n",
        "condition_data <- fun_me(\"direkt die URL anfragen und cracken\") |>\n",
        "  fun_me(\"notwendige Modifikationen der Ausgabe durchführen\")\n",
        "procedure_url <- fun_me(\"FHIR-Url für die Suche nach Conditions mit Beschränkung auf das Subject\")\n",
        "procedure_data <- fun_me(\"direkt die URL anfragen und cracken\") |>\n",
        "  fun_me(\"notwendige Modifikationen der Ausgabe durchführen\")\n",
        "\n",
        "joined_clinical_data <- joined_subject_data |>\n",
        "  fun_me(\"FHIR-Tabelle fertig stellen gemäß Zielschema\")\n",
        "head(joined_clinical_data)"
      ],
      "metadata": {
        "id": "EutwFR6ktmfi"
      },
      "execution_count": null,
      "outputs": []
    },
    {
      "cell_type": "code",
      "source": [
        "#@title Lösung von Aufgabe 4\n",
        "patient_id_join <- paste(joined_subject_data$patient_id, collapse = ',')\n",
        "condition_url <- fhir_url(\n",
        "  url=endpoint,\n",
        "  resource=\"Condition\",\n",
        "  parameters=c(\n",
        "    \"subject\"=patient_id_join\n",
        "  )\n",
        ")\n",
        "condition_data <- fhir_crack(\n",
        "  bundles=fhir_search(condition_url, verbose=0),\n",
        "  design=fhir_table_description(\n",
        "    resource=\"Condition\",\n",
        "    cols=c(\n",
        "      condition_id=\"id\",\n",
        "      patient_id=\"subject/reference\",\n",
        "      condition_code=\"code/coding/code\",\n",
        "      condition_display=\"code/coding/display\",\n",
        "      condition_onsetAge_unit=\"onsetAge/unit\",\n",
        "      condition_onsetAge_value=\"onsetAge/value\"\n",
        "    )\n",
        "  )\n",
        ") |>\n",
        "  mutate(patient_id = gsub(\"Patient/\", \"\", patient_id))\n",
        "\n",
        "procedure_url <- fhir_url(\n",
        "  url=endpoint,\n",
        "  resource=\"Procedure\",\n",
        "  parameters=c(\n",
        "    subject=patient_id_join\n",
        "  )\n",
        ")\n",
        "procedure_data <- fhir_crack(\n",
        "  bundles=fhir_search(procedure_url, verbose=0),\n",
        "  design=fhir_table_description(\n",
        "    resource=\"Procedure\",\n",
        "    cols=c(\n",
        "      \"procedure_id\"=\"id\",\n",
        "      \"patient_id\"=\"subject/reference\",\n",
        "      \"procedure_code\"=\"code/coding/code\",\n",
        "      \"procedure_display\"=\"code/coding/display\",\n",
        "      \"procedure_system\"=\"code/coding/system\"\n",
        "    )\n",
        "  )\n",
        ") |>\n",
        "  mutate(patient_id = gsub(\"Patient/\", \"\", patient_id))\n",
        "\n",
        "joined_clinical_data <- joined_subject_data |>\n",
        "  left_join(condition_data, by=\"patient_id\") |>\n",
        "  left_join(procedure_data, by=\"patient_id\") |>\n",
        "  mutate(condition_onsetAge_value=as.numeric(condition_onsetAge_value)) |>\n",
        "  select(-subject_id, -patient_id, -condition_id, -procedure_id)\n",
        "head(joined_clinical_data)"
      ],
      "metadata": {
        "id": "QtN2MJ-iMQuE",
        "cellView": "form"
      },
      "execution_count": null,
      "outputs": []
    },
    {
      "cell_type": "code",
      "source": [
        "#@title Test der Lösung\n",
        "test(count=4, fun=function() {\n",
        "  joined_clinical_data |>\n",
        "    verify(has_all_names(\"subject_identifier_value\", \"subject_identifier_system\", \"deceasedBoolean\", \"gender\")) |>\n",
        "    verify(has_all_names(\"condition_code\", \"condition_display\", \"condition_onsetAge_unit\", \"condition_onsetAge_value\")) |>\n",
        "    verify(has_all_names(\"procedure_code\", \"procedure_display\", \"procedure_system\"))\n",
        "\n",
        "  assert_that(nrow(joined_clinical_data) > 20)\n",
        "})"
      ],
      "metadata": {
        "id": "q3ZV5pAVsa_V",
        "cellView": "form"
      },
      "execution_count": null,
      "outputs": []
    },
    {
      "cell_type": "markdown",
      "source": [
        "## Aufgabe 5\n",
        "\n",
        "Jetzt laden wir den Datensatz mit weiteren klinischen Daten. Dieser ist im CSV-Format unter https://drive.google.com/file/d/1Vs7ZMva965Q_YPVcTxG5P2qmInuuyaIM/view?usp=sharing herunterzuladen und oben links in den Session Storage laden:\n",
        "\n",
        "![Session Storage](https://f003.backblazeb2.com/file/script-junk/gmds-2024-summit/load-csv-colab.png)\n",
        "\n",
        "Ein vollständiges Zielschema ist zu lang, lediglich eine Änderung ist unten im Code vorgeschlagen."
      ],
      "metadata": {
        "id": "YjlQ58WpvolP"
      }
    },
    {
      "cell_type": "code",
      "source": [
        "#@title A5: CSV-Laden und joinen\n",
        "csv_data <- fun_me(\"Daten laden\")\n",
        "\n",
        "all_data <- csv_data |>\n",
        "  fun_me(\"Die Spalte patient_id hat einen verwirrenden Namen, sie sollte lieber subject_identifier sein\") |>\n",
        "  fun_me(\"Wieder ein Join\")\n",
        "\n",
        "head(all_data)\n",
        "str(all_data)"
      ],
      "metadata": {
        "id": "IdZEgMBU4mUy"
      },
      "execution_count": null,
      "outputs": []
    },
    {
      "cell_type": "code",
      "source": [
        "#@title Lösung für Aufgabe 5\n",
        "csv_data <- read.csv(\"data.csv\", sep=\",\")\n",
        "\n",
        "all_data <- csv_data |>\n",
        "  rename(subject_identifier=patient_id) |>\n",
        "  left_join(joined_clinical_data, by=join_by(subject_identifier == subject_identifier_value))\n",
        "head(all_data)\n",
        "str(all_data)"
      ],
      "metadata": {
        "id": "he_HcRMUvsXF",
        "cellView": "form"
      },
      "execution_count": null,
      "outputs": []
    },
    {
      "cell_type": "markdown",
      "source": [
        "## Aufgabe 6\n",
        "\n",
        "Unser Datensatz ist jetzt soweit fertig. Zum Abschluss nutzen wir die umfassenden Möglichkeiten von R für ein paar erste Gehversuche in der Datenanalyse. Hierzu nutzen wir das Paket `ggplot` aus dem Tidyverse [[Docs]](https://ggplot2.tidyverse.org/index.html).\n",
        "\n",
        "Wie bei `dplyr` ist das Cheat Sheet von `ggplot` sehr hilfreich: [[Cheat Sheet]](https://github.com/rstudio/cheatsheets/blob/master/data-visualization.pdf). Zum Testen der Plot-Funktionen kann auch der kleine Block hier verwendet werden, um mit einem einfachen Datensatz zu spielen.\n",
        "\n",
        "In `ggplot` werden Daten auf *aesthetics* gemapped, die dann durch *layer* graphisch dargestellt werden. In dieser Aufgabe gibt es weniger Hilfestellung direkt in der Aufgabe, probiert gerne einfach mit den Daten rum, was sich direkt darstellen lässt."
      ],
      "metadata": {
        "id": "HtPc1Ffd3NMo"
      }
    },
    {
      "cell_type": "code",
      "source": [
        "#@title `ggplot`-Beispiel\n",
        "# von: https://nbisweden.github.io/workshop-r/2011/lab_ggplot2.html\n",
        "# verwendet einen mit R mitgelieferten Datensatz, es geht um Pflanzen, deren Blattform analysisert wurde\n",
        "data(iris)\n",
        "str(iris) # Species ist ein `Factor`, das ist eine kompakte Repräsentation von kategorischen Variablen, bei denen die Strings durch Codes ersetzt werden, also setosa=1, etc.\n",
        "ggplot(data=iris,mapping=aes(x=Petal.Length,y=Petal.Width,color=Species))+\n",
        "  geom_point() +\n",
        "  geom_smooth(formula=y~x, method=\"lm\")"
      ],
      "metadata": {
        "id": "hpyQG_sxATtk"
      },
      "execution_count": null,
      "outputs": []
    },
    {
      "cell_type": "markdown",
      "source": [
        "Die beiden folgenden Grafiken werden durch die Musterlösung generiert, die ihr reproduzieren könnt:\n",
        "\n",
        "|Alter bei Diagnose pro Geschlecht|Survival pro ICD-10-Code|\n",
        "|-|-|\n",
        "|![Grafik 1](https://f003.backblazeb2.com/file/script-junk/gmds-2024-summit/ggplot1.png)|![Grafik 2](https://f003.backblazeb2.com/file/script-junk/gmds-2024-summit/ggplot2.png)|"
      ],
      "metadata": {
        "id": "4o53bJp_BLxI"
      }
    },
    {
      "cell_type": "code",
      "source": [
        "#@title A6: `ggplot`\n",
        "ggplot(data=all_data, aes=fill_me(\"Sinnvolles Aesthetic-Mapping\")) +\n",
        "  fill_me(\"Sinnvolles Geom\") +\n",
        "  fill_me(\"Theming, Beschriftung, ....\")\n",
        "\n",
        "data |> # Pipes gehen hier auch :)\n",
        "  ggplot(aes=fill_me(\"Anderes aes\")) +\n",
        "  fill_me(\"anderes sinnvolles Geom\") +\n",
        "  fill_me(\"Theming, Beschriftung, ...\")"
      ],
      "metadata": {
        "id": "HaghJat9_Pws"
      },
      "execution_count": null,
      "outputs": []
    },
    {
      "cell_type": "code",
      "source": [
        "#@title Lösung für Aufgabe 6 (erster Plot)\n",
        "ggplot(data=all_data, aes(x=condition_onsetAge_value, col=gender)) +\n",
        "  geom_histogram(aes(y = after_stat(density), col=gender), fill='white', bins=30) +\n",
        "  geom_line(stat=\"density\", linewidth = 1.5) +\n",
        "  labs(title=\"Age at diagnoses, distribution per gender\", x=\"Age at diagnosis\", y=\"Density\", col=\"Gender\")"
      ],
      "metadata": {
        "id": "1YBZDGnu5pf5",
        "cellView": "form"
      },
      "execution_count": null,
      "outputs": []
    },
    {
      "cell_type": "code",
      "source": [
        "#@title Lösung für Aufgabe 6 (zweiter Plot)\n",
        "ggplot(data=all_data, aes(x=condition_code, col=disease.specific_survival_status, fill=disease.specific_survival_status)) +\n",
        "  geom_bar(stat='count') +\n",
        "  labs(title=\"Disease-specific survival per ICD-10 code\", x=\"ICD-10 code\", y=\"Count\", col=\"Disease-specific survival\", fill=\"Disease-specific survival\")"
      ],
      "metadata": {
        "cellView": "form",
        "id": "barbWbxg_qma"
      },
      "execution_count": null,
      "outputs": []
    }
  ]
}