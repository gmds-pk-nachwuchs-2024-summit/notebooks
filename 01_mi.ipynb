{
 "cells": [
  {
   "cell_type": "markdown",
   "metadata": {
    "id": "dYdGBEfd5vGe"
   },
   "source": [
    "## TODO\n",
    "\n",
    "- [ ] FHIR-Daten abfragen\n",
    "  - [x] ResearchStudy\n",
    "  - [x] ResearchSubject\n",
    "  - [x] Patient\n",
    "  - [x] Procedure\n",
    "  - [x] Condition\n",
    "- [x] CSV cleanen\n",
    "- [x] CSV in Material laden\n",
    "- [x] Laden der CSV testen\n",
    "- [ ] Laden der CSV einbauen\n",
    "- [ ] Mergen FHIR mit CSV"
   ]
  },
  {
   "cell_type": "markdown",
   "metadata": {
    "id": "5XGL5xs2HFk0"
   },
   "source": [
    "# Block 1: Medizininformatik\n",
    "\n",
    "Eure Ansprechpartner sind Hannes Ulrich und Joshua Wiedekopf.\n",
    "\n",
    "In diesem Block geht es darum, die Daten aus der TCGA-Studie aus disjunkten Quellen in ein Format zu bringen, mit dem in den folgenden Blöcken weiter gearbeitet werden kann.\n",
    "\n",
    "Hierzu werden wir auf einen FHIR-Server zugreifen, um die Patientendaten abzurufen, während die klinischen Daten im CSV-Format vorliegen."
   ]
  },
  {
   "cell_type": "markdown",
   "metadata": {
    "id": "L5YuIf6sH4mj"
   },
   "source": [
    "## Pakete laden und installieren\n",
    "\n",
    "**Dieser Block muss einmal unbedingt ausgeführt werden, damit in Eurer Runtime die notwendigen Pakete zur Verfügung stehen!**"
   ]
  },
  {
   "cell_type": "code",
   "execution_count": null,
   "metadata": {
    "colab": {
     "base_uri": "https://localhost:8080/"
    },
    "id": "YDC-iOYIH6On",
    "outputId": "653c815d-e555-4f72-e1bf-1ddec43b64e0"
   },
   "outputs": [],
   "source": [
    "install.packages(\"fhircrackr\")\n",
    "install.packages(\"assertthat\")\n",
    "install.packages(\"assertr\")"
   ]
  },
  {
   "cell_type": "markdown",
   "metadata": {
    "id": "jHTzKCIvIxVP"
   },
   "source": [
    "Sollten Konflikte gemeldet werden, ist dies in der Regel in Ordnung."
   ]
  },
  {
   "cell_type": "code",
   "execution_count": 1,
   "metadata": {
    "colab": {
     "base_uri": "https://localhost:8080/"
    },
    "id": "uUD-K96UH37r",
    "outputId": "33e9ff89-715d-4309-d5de-2f5de50f5966"
   },
   "outputs": [
    {
     "name": "stderr",
     "output_type": "stream",
     "text": [
      "── \u001b[1mAttaching core tidyverse packages\u001b[22m ──────────────────────── tidyverse 2.0.0 ──\n",
      "\u001b[32m✔\u001b[39m \u001b[34mdplyr    \u001b[39m 1.1.3     \u001b[32m✔\u001b[39m \u001b[34mreadr    \u001b[39m 2.1.4\n",
      "\u001b[32m✔\u001b[39m \u001b[34mforcats  \u001b[39m 1.0.0     \u001b[32m✔\u001b[39m \u001b[34mstringr  \u001b[39m 1.5.0\n",
      "\u001b[32m✔\u001b[39m \u001b[34mggplot2  \u001b[39m 3.4.4     \u001b[32m✔\u001b[39m \u001b[34mtibble   \u001b[39m 3.2.1\n",
      "\u001b[32m✔\u001b[39m \u001b[34mlubridate\u001b[39m 1.9.3     \u001b[32m✔\u001b[39m \u001b[34mtidyr    \u001b[39m 1.3.0\n",
      "\u001b[32m✔\u001b[39m \u001b[34mpurrr    \u001b[39m 1.0.2     \n",
      "── \u001b[1mConflicts\u001b[22m ────────────────────────────────────────── tidyverse_conflicts() ──\n",
      "\u001b[31m✖\u001b[39m \u001b[34mdplyr\u001b[39m::\u001b[32mfilter()\u001b[39m    masks \u001b[34mstats\u001b[39m::filter()\n",
      "\u001b[31m✖\u001b[39m \u001b[34mtibble\u001b[39m::\u001b[32mhas_name()\u001b[39m masks \u001b[34massertthat\u001b[39m::has_name()\n",
      "\u001b[31m✖\u001b[39m \u001b[34mdplyr\u001b[39m::\u001b[32mlag()\u001b[39m       masks \u001b[34mstats\u001b[39m::lag()\n",
      "\u001b[36mℹ\u001b[39m Use the conflicted package (\u001b[3m\u001b[34m<http://conflicted.r-lib.org/>\u001b[39m\u001b[23m) to force all conflicts to become errors\n"
     ]
    }
   ],
   "source": [
    "library(assertthat)\n",
    "library(fhircrackr)\n",
    "library(tidyverse)\n",
    "library(glue)\n",
    "library(assertr)"
   ]
  },
  {
   "cell_type": "code",
   "execution_count": 2,
   "metadata": {
    "id": "ULTTyAzn_jHx"
   },
   "outputs": [],
   "source": [
    "#@title Hilfsfunktionen, einfach ignorieren, nur einmal ausführen\n",
    "fill_me <- function(name, description) {\n",
    "  error_msg = glue(\"Die Variable/der Parameter '{name}' ist nicht gefüllt: {description}\")\n",
    "  stop(error_msg)\n",
    "}\n",
    "fun_me <- function(description) {\n",
    "  error_msg = glue(\"Hier fehlt ein Funktionsaufruf: {description}\")\n",
    "  stop(error_msg)\n",
    "}\n",
    "test <- function(count=1, fun) {\n",
    "  fun()\n",
    "  print(ifelse(count == 1, \"1 Test erfolgreich\", str_glue(\"{count} Tests erfolgreich\")))\n",
    "}\n"
   ]
  },
  {
   "cell_type": "markdown",
   "metadata": {
    "id": "hTaTQlupI497"
   },
   "source": [
    "## Daten laden vom FHIR-Server\n",
    "\n",
    "Habt ihr Probleme bei der Umsetzung dieser Aufgabe, ist die [Dokumentation von HL7 FHIR 🇬🇧](https://hl7.org/fhir/R5/) hilfreich. Insbesondere die folgenden Seiten können wichtig sein:\n",
    "- [FHIR Search](https://hl7.org/fhir/R5/search.html)\n",
    "- [Ressource *Patient*](https://hl7.org/fhir/R5/patient.html)\n",
    "- [Ressource *Condition*](https://hl7.org/fhir/R5/condition.html)\n",
    "- [Ressource *Observation*](https://hl7.org/fhir/R5/observation.html)\n",
    "- [Ressource *ResearchStudy*](https://hl7.org/fhir/R5/researchstudy.html)\n",
    "- [Ressource *ResearchSubject*](https://hl7.org/fhir/R5/researchsubject.html)\n",
    "\n",
    "Darüber hinaus ist die [Dokumentation vom `fhircrackr`-R-Paket 🇬🇧](https://cran.r-project.org/web/packages/fhircrackr) sehr hilfreich:\n",
    "- [Download FHIR resources](https://cran.r-project.org/web/packages/fhircrackr/vignettes/downloadResources.html)\n"
   ]
  },
  {
   "cell_type": "code",
   "execution_count": 4,
   "metadata": {
    "id": "su0Ji8iDI4d2"
   },
   "outputs": [],
   "source": [
    "endpoint=\"https://fhir.imi.uni-luebeck.de/fhir\"\n",
    "# die Adresse unseres FHIR-Servers. Unter https://fhir.imi.uni-luebeck.de/ ist auch eine einfache GUI verfügbar"
   ]
  },
  {
   "cell_type": "markdown",
   "metadata": {
    "id": "dpSB2ZU1KwUA"
   },
   "source": [
    "## Aufgabe 1\n",
    "\n",
    "Ladet alle Ressourcen vom Typ `ResearchStudy` mit folgendem Identifier:\n",
    "- `system` = `https://www.cbioportal.org/study`\n",
    "- `value`  = `paad_tcga_pan_can_atlas_2018`\n",
    "\n",
    "Dabei sollte genau eine Ressource gefunden werden."
   ]
  },
  {
   "cell_type": "code",
   "execution_count": 5,
   "metadata": {
    "colab": {
     "base_uri": "https://localhost:8080/",
     "height": 245
    },
    "id": "q1mHJ9amAixe",
    "outputId": "dad9cc5f-de28-4d54-959a-42b82a64b189"
   },
   "outputs": [
    {
     "ename": "ERROR",
     "evalue": "Error in h(simpleError(msg, call)): error in evaluating the argument 'resource' in selecting a method for function 'fhir_url': Die Variable/der Parameter 'resource' ist nicht gefüllt: Hier soll der ResourceType, den wir suchen, rein\n",
     "output_type": "error",
     "traceback": [
      "Error in h(simpleError(msg, call)): error in evaluating the argument 'resource' in selecting a method for function 'fhir_url': Die Variable/der Parameter 'resource' ist nicht gefüllt: Hier soll der ResourceType, den wir suchen, rein\nTraceback:\n",
      "1. fhir_url(url = endpoint, resource = fill_me(\"resource\", \"Hier soll der ResourceType, den wir suchen, rein\"), \n .     parameters = list(fill_me(\"parameters\", \"Hier können Suchparameter angegeben werden.\")))",
      "2. fill_me(\"resource\", \"Hier soll der ResourceType, den wir suchen, rein\")",
      "3. stop(error_msg)   # at line 4 of file <text>",
      "4. .handleSimpleError(function (cond) \n . .Internal(C_tryCatchHelper(addr, 1L, cond)), \"Die Variable/der Parameter 'resource' ist nicht gefüllt: Hier soll der ResourceType, den wir suchen, rein\", \n .     base::quote(fill_me(\"resource\", \"Hier soll der ResourceType, den wir suchen, rein\")))",
      "5. h(simpleError(msg, call))"
     ]
    }
   ],
   "source": [
    "request <- fhir_url(\n",
    "  url = endpoint,\n",
    "  resource = fill_me(\"resource\", \"Hier soll der ResourceType, den wir suchen, rein\"),\n",
    "  parameters = list(\n",
    "    fill_me(\"parameters\", \"Hier können Suchparameter angegeben werden.\")\n",
    "  )\n",
    ")\n",
    "studies_bundle <- fun_me(\"Die Suchanfrage muss noch an den Server geschickt werden\")\n",
    "str(studies_bundle) # Gibt die Datenstruktur aus, mit der wir arbeiten"
   ]
  },
  {
   "cell_type": "code",
   "execution_count": 6,
   "metadata": {
    "colab": {
     "base_uri": "https://localhost:8080/"
    },
    "id": "jruSf4suHDA3",
    "outputId": "ee640e94-3eba-4f0b-ab3a-d12543dae917"
   },
   "outputs": [
    {
     "name": "stdout",
     "output_type": "stream",
     "text": [
      "Formal class 'fhir_bundle_list' [package \"fhircrackr\"] with 1 slot\n",
      "  ..@ .Data:List of 1\n",
      "  .. ..$ :Formal class 'fhir_bundle_xml' [package \"fhircrackr\"] with 3 slots\n",
      "  .. .. .. ..@ next_link:Formal class 'fhir_url' [package \"fhircrackr\"] with 1 slot\n",
      "  .. .. .. .. .. ..@ .Data: chr(0) \n",
      "  .. .. .. ..@ self_link:Formal class 'fhir_url' [package \"fhircrackr\"] with 1 slot\n",
      "  .. .. .. .. .. ..@ .Data: chr \"https://fhir.imi.uni-luebeck.de/fhir/ResearchStudy?identifier=https%3A%2F%2Fwww.cbioportal.org%2Fstudy%7Cpaad_t\"| __truncated__\n",
      "  .. .. .. ..@ .S3Class : chr [1:2] \"xml_document\" \"xml_node\"\n",
      "  .. .. .. ..$ names: chr [1:2] \"node\" \"doc\"\n"
     ]
    }
   ],
   "source": [
    "#@title Lösung\n",
    "request <- fhir_url(\n",
    "  url = endpoint,\n",
    "  resource = \"ResearchStudy\",\n",
    "  parameters = list(\n",
    "    \"identifier\" = \"https://www.cbioportal.org/study|paad_tcga_pan_can_atlas_2018\"\n",
    "  )\n",
    ")\n",
    "studies_bundle <- fhir_search(request, verbose=0)\n",
    "str(studies_bundle)"
   ]
  },
  {
   "cell_type": "code",
   "execution_count": 7,
   "metadata": {
    "colab": {
     "base_uri": "https://localhost:8080/"
    },
    "id": "1RKR8R_F7jKf",
    "outputId": "2a7aaf00-09b8-4be9-cc19-2a7fd21f43fe"
   },
   "outputs": [
    {
     "name": "stdout",
     "output_type": "stream",
     "text": [
      "[1] \"2 Tests erfolgreich\"\n"
     ]
    }
   ],
   "source": [
    "#@title Test der Lösung\n",
    "test(count=2, fun=function() {\n",
    "  assert_that(length(studies_bundle) == 1)\n",
    "  assert_that(is(studies_bundle, \"fhir_bundle_list\"))\n",
    "})"
   ]
  },
  {
   "cell_type": "markdown",
   "metadata": {
    "id": "AEFztCSm6pus"
   },
   "source": [
    "## Aufgabe 2\n",
    "\n",
    "Gut, jetzt haben wir ein FHIR-Bundle. Damit wir innerhalb von R damit auch arbeiten können, verwenden wir die `fhir_crack`-Funktion von `fhircrackr`, um die Daten in die R-native Datenstruktur `dataframe` zu bekommen (bzw. vielmehr ein `tibble`, die [\"neuere, bessere\" Alternative zum `dataframe`](https://stackoverflow.com/questions/64856424/what-are-the-differences-between-data-frame-tibble-and-matrix)).\n",
    "\n",
    "Das \"Flachklopfen\" der FHIR-Ressourcen ist in der Dokumentation von `fhircrackr` [beschrieben](https://cran.r-project.org/web/packages/fhircrackr/vignettes/fhircrackr_intro.html#flattening-resources).\n",
    "\n",
    "Es muss also eine Tabellen-Definition erstellt werden und dann diese Definition auf unser Bundle angewendet werden. Uns interessiert nicht alles, sogar fast das meiste nicht. Daher können wir die Spaltendefinitionen relativ knapp fassen. Damit FHIR-Referenzen aufgelöst werden können, benötigen wir die technische `id` der ResearchStudy. Damit wir selber mit dem DataFrame etwas anfangen können, geben wir noch den `title` und die Komponenten des `identifier` aus."
   ]
  },
  {
   "cell_type": "code",
   "execution_count": 8,
   "metadata": {
    "colab": {
     "base_uri": "https://localhost:8080/",
     "height": 129
    },
    "id": "05y9RZlQ-9hX",
    "outputId": "391f725e-1cd4-425e-8b26-b3c5c4f9f89b"
   },
   "outputs": [
    {
     "data": {
      "text/html": [
       "<table class=\"dataframe\">\n",
       "<caption>A tibble: 1 × 4</caption>\n",
       "<thead>\n",
       "\t<tr><th scope=col>id</th><th scope=col>title</th><th scope=col>identifier_system</th><th scope=col>identifier_value</th></tr>\n",
       "\t<tr><th scope=col>&lt;chr&gt;</th><th scope=col>&lt;chr&gt;</th><th scope=col>&lt;chr&gt;</th><th scope=col>&lt;chr&gt;</th></tr>\n",
       "</thead>\n",
       "<tbody>\n",
       "\t<tr><td>1</td><td>Pancreatic Adenocarcinoma (TCGA, PanCancer Atlas)</td><td>https://www.cbioportal.org/study</td><td>paad_tcga_pan_can_atlas_2018</td></tr>\n",
       "</tbody>\n",
       "</table>\n"
      ],
      "text/latex": [
       "A tibble: 1 × 4\n",
       "\\begin{tabular}{llll}\n",
       " id & title & identifier\\_system & identifier\\_value\\\\\n",
       " <chr> & <chr> & <chr> & <chr>\\\\\n",
       "\\hline\n",
       "\t 1 & Pancreatic Adenocarcinoma (TCGA, PanCancer Atlas) & https://www.cbioportal.org/study & paad\\_tcga\\_pan\\_can\\_atlas\\_2018\\\\\n",
       "\\end{tabular}\n"
      ],
      "text/markdown": [
       "\n",
       "A tibble: 1 × 4\n",
       "\n",
       "| id &lt;chr&gt; | title &lt;chr&gt; | identifier_system &lt;chr&gt; | identifier_value &lt;chr&gt; |\n",
       "|---|---|---|---|\n",
       "| 1 | Pancreatic Adenocarcinoma (TCGA, PanCancer Atlas) | https://www.cbioportal.org/study | paad_tcga_pan_can_atlas_2018 |\n",
       "\n"
      ],
      "text/plain": [
       "  id title                                            \n",
       "1 1  Pancreatic Adenocarcinoma (TCGA, PanCancer Atlas)\n",
       "  identifier_system                identifier_value            \n",
       "1 https://www.cbioportal.org/study paad_tcga_pan_can_atlas_2018"
      ]
     },
     "metadata": {},
     "output_type": "display_data"
    }
   ],
   "source": [
    "#@title Lösung\n",
    "table_description_studies <- fhir_table_description(\n",
    "  resource=\"ResearchStudy\",\n",
    "  cols=c(\n",
    "    id=\"id\",\n",
    "    title=\"title\",\n",
    "    identifier_system=\"identifier/system\",\n",
    "    identifier_value=\"identifier/value\"\n",
    "  )\n",
    ")\n",
    "studies <- as_tibble(fhir_crack(bundles=studies_bundle, design=table_description_studies, verbose=0))\n",
    "studies\n",
    "study_id = (studies$id)[1]"
   ]
  },
  {
   "cell_type": "code",
   "execution_count": 34,
   "metadata": {
    "cellView": "form",
    "colab": {
     "base_uri": "https://localhost:8080/"
    },
    "id": "uUabjP7wGH9A",
    "outputId": "3cfb5069-ecbd-489f-9f2a-40daf4e5c143"
   },
   "outputs": [
    {
     "name": "stdout",
     "output_type": "stream",
     "text": [
      "[1] \"2 Tests erfolgreich\"\n"
     ]
    }
   ],
   "source": [
    "#@title Test der Lösung\n",
    "test(count=2, fun=function() {\n",
    "  studies |>\n",
    "    verify(has_all_names(\"id\", \"title\")) |>\n",
    "    verify(identifier_value == 'paad_tcga_pan_can_atlas_2018')\n",
    "})"
   ]
  },
  {
   "cell_type": "markdown",
   "metadata": {
    "id": "P91WQZ_YRoVy"
   },
   "source": [
    "## Aufgabe 3\n",
    "\n",
    "Wir haben jetzt eine Referenz auf die ResearchStudy, sodass wir auf Basis dieser nach den inkludierten Patienten suchen können - andere Patienten wollen wir natürlich nicht abfragen, weil wir es nicht dürfen 😎.\n",
    "\n",
    "Die Teilnahme eines Patienten ist an die Ressource `ResearchSubject` geknüpft, die Brücke zwischen `ResearchStudy` und `Patient`. In `ResearchSubject` wird eine studieninterne ID zugewiesen, die wir benötigen, in `Patient` ist neben `gender` und `deceased` auch die ID relevant, damit wir über diese die Prozedur- und Diagnose-Ressourcen im nächsten Schritt anfragen können.\n",
    "\n",
    "Wir werden also die `ResearchSubject`-Ressourcen, die auf unsere `ResearchStudy` verweisen, anfragen. Danach fragen wir die Patienten an, die in `ResearchSubject` referenziert werden.\n",
    "\n",
    "Zur Datenmanipulation sind Pipes `|>` und das Paket `dyplr` sehr hilfreich:\n",
    "\n",
    "```r\n",
    "data |>\n",
    "  filter(x='foo') |>\n",
    "  mutate(y=x+3)\n",
    "```\n",
    "\n",
    "Mehr Informationen dazu im [Data Wrangling Cheat Sheet](https://www.rstudio.com/wp-content/uploads/2015/02/data-wrangling-cheatsheet.pdf) von `dplyr`."
   ]
  },
  {
   "cell_type": "code",
   "execution_count": 25,
   "metadata": {
    "colab": {
     "base_uri": "https://localhost:8080/",
     "height": 286
    },
    "id": "_VnRTwp9JIqQ",
    "outputId": "28600dc2-300c-4b84-eea6-cb229212d29a"
   },
   "outputs": [
    {
     "name": "stdout",
     "output_type": "stream",
     "text": [
      "An object of class \"fhir_url\"\n",
      "[1] \"https://fhir.imi.uni-luebeck.de/fhir/ResearchSubject?study=ResearchStudy/1&_include=ResearchSubject:patient\"\n"
     ]
    },
    {
     "data": {
      "text/html": [
       "<table class=\"dataframe\">\n",
       "<caption>A data.frame: 6 × 4</caption>\n",
       "<thead>\n",
       "\t<tr><th></th><th scope=col>subject_id</th><th scope=col>patient_id</th><th scope=col>deceasedBoolean</th><th scope=col>gender</th></tr>\n",
       "\t<tr><th></th><th scope=col>&lt;chr&gt;</th><th scope=col>&lt;chr&gt;</th><th scope=col>&lt;chr&gt;</th><th scope=col>&lt;chr&gt;</th></tr>\n",
       "</thead>\n",
       "<tbody>\n",
       "\t<tr><th scope=row>1</th><td>4 </td><td>3 </td><td>false</td><td>male  </td></tr>\n",
       "\t<tr><th scope=row>2</th><td>7 </td><td>6 </td><td>true </td><td>male  </td></tr>\n",
       "\t<tr><th scope=row>3</th><td>10</td><td>9 </td><td>false</td><td>male  </td></tr>\n",
       "\t<tr><th scope=row>4</th><td>13</td><td>12</td><td>true </td><td>male  </td></tr>\n",
       "\t<tr><th scope=row>5</th><td>17</td><td>16</td><td>false</td><td>female</td></tr>\n",
       "\t<tr><th scope=row>6</th><td>20</td><td>19</td><td>false</td><td>male  </td></tr>\n",
       "</tbody>\n",
       "</table>\n"
      ],
      "text/latex": [
       "A data.frame: 6 × 4\n",
       "\\begin{tabular}{r|llll}\n",
       "  & subject\\_id & patient\\_id & deceasedBoolean & gender\\\\\n",
       "  & <chr> & <chr> & <chr> & <chr>\\\\\n",
       "\\hline\n",
       "\t1 & 4  & 3  & false & male  \\\\\n",
       "\t2 & 7  & 6  & true  & male  \\\\\n",
       "\t3 & 10 & 9  & false & male  \\\\\n",
       "\t4 & 13 & 12 & true  & male  \\\\\n",
       "\t5 & 17 & 16 & false & female\\\\\n",
       "\t6 & 20 & 19 & false & male  \\\\\n",
       "\\end{tabular}\n"
      ],
      "text/markdown": [
       "\n",
       "A data.frame: 6 × 4\n",
       "\n",
       "| <!--/--> | subject_id &lt;chr&gt; | patient_id &lt;chr&gt; | deceasedBoolean &lt;chr&gt; | gender &lt;chr&gt; |\n",
       "|---|---|---|---|---|\n",
       "| 1 | 4  | 3  | false | male   |\n",
       "| 2 | 7  | 6  | true  | male   |\n",
       "| 3 | 10 | 9  | false | male   |\n",
       "| 4 | 13 | 12 | true  | male   |\n",
       "| 5 | 17 | 16 | false | female |\n",
       "| 6 | 20 | 19 | false | male   |\n",
       "\n"
      ],
      "text/plain": [
       "  subject_id patient_id deceasedBoolean gender\n",
       "1 4          3          false           male  \n",
       "2 7          6          true            male  \n",
       "3 10         9          false           male  \n",
       "4 13         12         true            male  \n",
       "5 17         16         false           female\n",
       "6 20         19         false           male  "
      ]
     },
     "metadata": {},
     "output_type": "display_data"
    }
   ],
   "source": [
    "#@title Lösung\n",
    "subject_patient_url <- fhir_url(\n",
    "  url = endpoint,\n",
    "  resource = \"ResearchSubject\",\n",
    "  parameters = list(\n",
    "    \"study\"=glue(\"ResearchStudy/{study_id}\"),\n",
    "    \"_include\"=\"ResearchSubject:patient\"\n",
    "  )\n",
    ")\n",
    "\n",
    "print(subject_patient_url)\n",
    "\n",
    "subject_bundle <- fhir_search(subject_patient_url, verbose=0)\n",
    "res_subject_design <- fhir_table_description(\n",
    "  resource = \"ResearchSubject\",\n",
    "  cols=c(\n",
    "    subject_id=\"id\",\n",
    "    patient_id=\"subject/reference\"\n",
    "  )\n",
    ")\n",
    "pat_design <- fhir_table_description(\n",
    "  resource = \"Patient\",\n",
    "  cols=c(\n",
    "    patient_id=\"id\",\n",
    "    deceasedBoolean=\"deceasedBoolean\",\n",
    "    gender=\"gender\"\n",
    "  )\n",
    ")\n",
    "\n",
    "combined_design <- fhir_design(ResearchSubject=res_subject_design, Patient=pat_design)\n",
    "data <- fhir_crack(bundles=subject_bundle, design=combined_design, verbose=0)\n",
    "\n",
    "# Reduktion auf die nötigsten Daten und leichte Manipulationen in einer Spalte (um einen einfacheren Join zu machen)\n",
    "research_subject_data <- data$ResearchSubject |>\n",
    "  mutate(patient_id=gsub(\"Patient/\", \"\", patient_id))\n",
    "patient_data <- data$Patient\n",
    "\n",
    "joined_subject_data <- research_subject_data |>\n",
    "  left_join(patient_data, by=\"patient_id\")\n",
    "head(joined_subject_data)"
   ]
  },
  {
   "cell_type": "code",
   "execution_count": 30,
   "metadata": {
    "cellView": "form",
    "colab": {
     "base_uri": "https://localhost:8080/"
    },
    "id": "F1Rfz7dCPdLS",
    "outputId": "754cd586-434f-4552-b94e-91183d3a4450"
   },
   "outputs": [
    {
     "name": "stdout",
     "output_type": "stream",
     "text": [
      "[1] \"3 Tests erfolgreich\"\n"
     ]
    }
   ],
   "source": [
    "#@title Test der Lösung\n",
    "\n",
    "test(count=3, fun=function() {\n",
    "  joined_subject_data |>\n",
    "    verify(has_all_names(\"subject_id\", \"patient_id\", \"deceasedBoolean\", \"gender\")) |>\n",
    "    verify(any(patient_id == 12)) |>\n",
    "    verify(any(subject_id == 20))\n",
    "})"
   ]
  },
  {
   "cell_type": "markdown",
   "metadata": {
    "id": "ib41b6FUlKQZ"
   },
   "source": [
    "## Aufgabe 4\n",
    "\n"
   ]
  },
  {
   "cell_type": "markdown",
   "metadata": {
    "id": "Mf6MM6dKPKNb"
   },
   "source": [
    "Hier: Prozedur- und Diagnosedaten anfragen"
   ]
  },
  {
   "cell_type": "code",
   "execution_count": 33,
   "metadata": {
    "colab": {
     "base_uri": "https://localhost:8080/",
     "height": 124
    },
    "id": "QtN2MJ-iMQuE",
    "outputId": "87713c69-6890-4333-efb5-9adce187eae7"
   },
   "outputs": [
    {
     "name": "stdout",
     "output_type": "stream",
     "text": [
      "Cracking 10 Conditions' Bundles on a LINUX-Engine using 1/16 CPUs ... \n",
      "finished.\n",
      "Cracking 3 Procedures' Bundles on a LINUX-Engine using 1/16 CPUs ... \n",
      "finished.\n"
     ]
    },
    {
     "data": {
      "text/html": [
       "<table class=\"dataframe\">\n",
       "<caption>A data.frame: 184 × 13</caption>\n",
       "<thead>\n",
       "\t<tr><th scope=col>subject_id</th><th scope=col>patient_id</th><th scope=col>deceasedBoolean</th><th scope=col>gender</th><th scope=col>condition_id</th><th scope=col>condition_code</th><th scope=col>condition_display</th><th scope=col>condition_onsetAge_unit</th><th scope=col>condition_onsetAge_value</th><th scope=col>procedure_code</th><th scope=col>procedure_display</th><th scope=col>procedure_system</th><th scope=col>procedure_id</th></tr>\n",
       "\t<tr><th scope=col>&lt;chr&gt;</th><th scope=col>&lt;chr&gt;</th><th scope=col>&lt;chr&gt;</th><th scope=col>&lt;chr&gt;</th><th scope=col>&lt;chr&gt;</th><th scope=col>&lt;chr&gt;</th><th scope=col>&lt;chr&gt;</th><th scope=col>&lt;chr&gt;</th><th scope=col>&lt;chr&gt;</th><th scope=col>&lt;chr&gt;</th><th scope=col>&lt;chr&gt;</th><th scope=col>&lt;chr&gt;</th><th scope=col>&lt;chr&gt;</th></tr>\n",
       "</thead>\n",
       "<tbody>\n",
       "\t<tr><td>4  </td><td>3 </td><td>false</td><td>male  </td><td>2 </td><td>C25.0</td><td>Bösartige Neubildung: Pankreaskopf                              </td><td>a</td><td>65.0</td><td>NA        </td><td>NA                      </td><td>NA                    </td><td>NA</td></tr>\n",
       "\t<tr><td>7  </td><td>6 </td><td>true </td><td>male  </td><td>5 </td><td>C25.8</td><td>Bösartige Neubildung: Pankreas, mehrere Teilbereiche überlappend</td><td>a</td><td>48.0</td><td>NA        </td><td>NA                      </td><td>NA                    </td><td>NA</td></tr>\n",
       "\t<tr><td>10 </td><td>9 </td><td>false</td><td>male  </td><td>8 </td><td>C25.1</td><td>Bösartige Neubildung: Pankreaskörper                            </td><td>a</td><td>75.0</td><td>NA        </td><td>NA                      </td><td>NA                    </td><td>NA</td></tr>\n",
       "\t<tr><td>13 </td><td>12</td><td>true </td><td>male  </td><td>11</td><td>C25.0</td><td>Bösartige Neubildung: Pankreaskopf                              </td><td>a</td><td>71.0</td><td>NA        </td><td>NA                      </td><td>NA                    </td><td>NA</td></tr>\n",
       "\t<tr><td>17 </td><td>16</td><td>false</td><td>female</td><td>14</td><td>C25.0</td><td>Bösartige Neubildung: Pankreaskopf                              </td><td>a</td><td>70.0</td><td>1287742003</td><td>Radiotherapy (procedure)</td><td>http://snomed.info/sct</td><td>15</td></tr>\n",
       "\t<tr><td>20 </td><td>19</td><td>false</td><td>male  </td><td>18</td><td>C25.0</td><td>Bösartige Neubildung: Pankreaskopf                              </td><td>a</td><td>55.0</td><td>NA        </td><td>NA                      </td><td>NA                    </td><td>NA</td></tr>\n",
       "\t<tr><td>24 </td><td>23</td><td>true </td><td>male  </td><td>21</td><td>C25.1</td><td>Bösartige Neubildung: Pankreaskörper                            </td><td>a</td><td>73.0</td><td>1287742003</td><td>Radiotherapy (procedure)</td><td>http://snomed.info/sct</td><td>22</td></tr>\n",
       "\t<tr><td>28 </td><td>27</td><td>false</td><td>male  </td><td>25</td><td>C25.0</td><td>Bösartige Neubildung: Pankreaskopf                              </td><td>a</td><td>73.0</td><td>1287742003</td><td>Radiotherapy (procedure)</td><td>http://snomed.info/sct</td><td>26</td></tr>\n",
       "\t<tr><td>31 </td><td>30</td><td>true </td><td>male  </td><td>29</td><td>C25.1</td><td>Bösartige Neubildung: Pankreaskörper                            </td><td>a</td><td>61.0</td><td>NA        </td><td>NA                      </td><td>NA                    </td><td>NA</td></tr>\n",
       "\t<tr><td>35 </td><td>34</td><td>true </td><td>female</td><td>32</td><td>C25.0</td><td>Bösartige Neubildung: Pankreaskopf                              </td><td>a</td><td>55.0</td><td>1287742003</td><td>Radiotherapy (procedure)</td><td>http://snomed.info/sct</td><td>33</td></tr>\n",
       "\t<tr><td>39 </td><td>38</td><td>true </td><td>male  </td><td>36</td><td>C25.0</td><td>Bösartige Neubildung: Pankreaskopf                              </td><td>a</td><td>71.0</td><td>1287742003</td><td>Radiotherapy (procedure)</td><td>http://snomed.info/sct</td><td>37</td></tr>\n",
       "\t<tr><td>43 </td><td>42</td><td>true </td><td>male  </td><td>40</td><td>C25.0</td><td>Bösartige Neubildung: Pankreaskopf                              </td><td>a</td><td>43.0</td><td>1287742003</td><td>Radiotherapy (procedure)</td><td>http://snomed.info/sct</td><td>41</td></tr>\n",
       "\t<tr><td>46 </td><td>45</td><td>true </td><td>female</td><td>44</td><td>C25.0</td><td>Bösartige Neubildung: Pankreaskopf                              </td><td>a</td><td>58.0</td><td>NA        </td><td>NA                      </td><td>NA                    </td><td>NA</td></tr>\n",
       "\t<tr><td>49 </td><td>48</td><td>true </td><td>female</td><td>47</td><td>C25.8</td><td>Bösartige Neubildung: Pankreas, mehrere Teilbereiche überlappend</td><td>a</td><td>60.0</td><td>NA        </td><td>NA                      </td><td>NA                    </td><td>NA</td></tr>\n",
       "\t<tr><td>52 </td><td>51</td><td>true </td><td>female</td><td>50</td><td>C25.0</td><td>Bösartige Neubildung: Pankreaskopf                              </td><td>a</td><td>72.0</td><td>NA        </td><td>NA                      </td><td>NA                    </td><td>NA</td></tr>\n",
       "\t<tr><td>55 </td><td>54</td><td>false</td><td>male  </td><td>53</td><td>C25.0</td><td>Bösartige Neubildung: Pankreaskopf                              </td><td>a</td><td>56.0</td><td>NA        </td><td>NA                      </td><td>NA                    </td><td>NA</td></tr>\n",
       "\t<tr><td>58 </td><td>57</td><td>false</td><td>male  </td><td>56</td><td>C25.0</td><td>Bösartige Neubildung: Pankreaskopf                              </td><td>a</td><td>74.0</td><td>NA        </td><td>NA                      </td><td>NA                    </td><td>NA</td></tr>\n",
       "\t<tr><td>61 </td><td>60</td><td>false</td><td>male  </td><td>59</td><td>C25.9</td><td>Bösartige Neubildung: Pankreas, nicht näher bezeichnet          </td><td>a</td><td>76.0</td><td>NA        </td><td>NA                      </td><td>NA                    </td><td>NA</td></tr>\n",
       "\t<tr><td>64 </td><td>63</td><td>false</td><td>male  </td><td>62</td><td>C25.0</td><td>Bösartige Neubildung: Pankreaskopf                              </td><td>a</td><td>56.0</td><td>NA        </td><td>NA                      </td><td>NA                    </td><td>NA</td></tr>\n",
       "\t<tr><td>67 </td><td>66</td><td>false</td><td>male  </td><td>65</td><td>C25.0</td><td>Bösartige Neubildung: Pankreaskopf                              </td><td>a</td><td>66.0</td><td>NA        </td><td>NA                      </td><td>NA                    </td><td>NA</td></tr>\n",
       "\t<tr><td>70 </td><td>69</td><td>false</td><td>female</td><td>68</td><td>C25.0</td><td>Bösartige Neubildung: Pankreaskopf                              </td><td>a</td><td>49.0</td><td>NA        </td><td>NA                      </td><td>NA                    </td><td>NA</td></tr>\n",
       "\t<tr><td>73 </td><td>72</td><td>false</td><td>male  </td><td>71</td><td>C25.0</td><td>Bösartige Neubildung: Pankreaskopf                              </td><td>a</td><td>82.0</td><td>NA        </td><td>NA                      </td><td>NA                    </td><td>NA</td></tr>\n",
       "\t<tr><td>76 </td><td>75</td><td>true </td><td>male  </td><td>74</td><td>C25.0</td><td>Bösartige Neubildung: Pankreaskopf                              </td><td>a</td><td>52.0</td><td>NA        </td><td>NA                      </td><td>NA                    </td><td>NA</td></tr>\n",
       "\t<tr><td>80 </td><td>79</td><td>true </td><td>male  </td><td>77</td><td>C25.0</td><td>Bösartige Neubildung: Pankreaskopf                              </td><td>a</td><td>57.0</td><td>1287742003</td><td>Radiotherapy (procedure)</td><td>http://snomed.info/sct</td><td>78</td></tr>\n",
       "\t<tr><td>83 </td><td>82</td><td>true </td><td>male  </td><td>81</td><td>C25.0</td><td>Bösartige Neubildung: Pankreaskopf                              </td><td>a</td><td>45.0</td><td>NA        </td><td>NA                      </td><td>NA                    </td><td>NA</td></tr>\n",
       "\t<tr><td>87 </td><td>86</td><td>false</td><td>male  </td><td>84</td><td>C25.0</td><td>Bösartige Neubildung: Pankreaskopf                              </td><td>a</td><td>67.0</td><td>1287742003</td><td>Radiotherapy (procedure)</td><td>http://snomed.info/sct</td><td>85</td></tr>\n",
       "\t<tr><td>90 </td><td>89</td><td>false</td><td>female</td><td>88</td><td>C25.0</td><td>Bösartige Neubildung: Pankreaskopf                              </td><td>a</td><td>69.0</td><td>NA        </td><td>NA                      </td><td>NA                    </td><td>NA</td></tr>\n",
       "\t<tr><td>94 </td><td>93</td><td>false</td><td>female</td><td>91</td><td>C25.0</td><td>Bösartige Neubildung: Pankreaskopf                              </td><td>a</td><td>61.0</td><td>1287742003</td><td>Radiotherapy (procedure)</td><td>http://snomed.info/sct</td><td>92</td></tr>\n",
       "\t<tr><td>97 </td><td>96</td><td>true </td><td>female</td><td>95</td><td>C25.1</td><td>Bösartige Neubildung: Pankreaskörper                            </td><td>a</td><td>66.0</td><td>NA        </td><td>NA                      </td><td>NA                    </td><td>NA</td></tr>\n",
       "\t<tr><td>100</td><td>99</td><td>true </td><td>male  </td><td>98</td><td>C25.0</td><td>Bösartige Neubildung: Pankreaskopf                              </td><td>a</td><td>65.0</td><td>NA        </td><td>NA                      </td><td>NA                    </td><td>NA</td></tr>\n",
       "\t<tr><td>⋮</td><td>⋮</td><td>⋮</td><td>⋮</td><td>⋮</td><td>⋮</td><td>⋮</td><td>⋮</td><td>⋮</td><td>⋮</td><td>⋮</td><td>⋮</td><td>⋮</td></tr>\n",
       "\t<tr><td>496</td><td>495</td><td>false</td><td>female</td><td>494</td><td>C25.0</td><td>Bösartige Neubildung: Pankreaskopf                    </td><td>a</td><td>74.0</td><td>NA        </td><td>NA                      </td><td>NA                    </td><td>NA </td></tr>\n",
       "\t<tr><td>500</td><td>499</td><td>true </td><td>female</td><td>497</td><td>C25.0</td><td>Bösartige Neubildung: Pankreaskopf                    </td><td>a</td><td>64.0</td><td>1287742003</td><td>Radiotherapy (procedure)</td><td>http://snomed.info/sct</td><td>498</td></tr>\n",
       "\t<tr><td>504</td><td>503</td><td>false</td><td>female</td><td>501</td><td>C25.0</td><td>Bösartige Neubildung: Pankreaskopf                    </td><td>a</td><td>63.0</td><td>1287742003</td><td>Radiotherapy (procedure)</td><td>http://snomed.info/sct</td><td>502</td></tr>\n",
       "\t<tr><td>508</td><td>507</td><td>true </td><td>female</td><td>505</td><td>C25.0</td><td>Bösartige Neubildung: Pankreaskopf                    </td><td>a</td><td>48.0</td><td>1287742003</td><td>Radiotherapy (procedure)</td><td>http://snomed.info/sct</td><td>506</td></tr>\n",
       "\t<tr><td>512</td><td>511</td><td>false</td><td>male  </td><td>509</td><td>C25.2</td><td>Bösartige Neubildung: Pankreasschwanz                 </td><td>a</td><td>75.0</td><td>1287742003</td><td>Radiotherapy (procedure)</td><td>http://snomed.info/sct</td><td>510</td></tr>\n",
       "\t<tr><td>516</td><td>515</td><td>false</td><td>female</td><td>513</td><td>C25.0</td><td>Bösartige Neubildung: Pankreaskopf                    </td><td>a</td><td>44.0</td><td>1287742003</td><td>Radiotherapy (procedure)</td><td>http://snomed.info/sct</td><td>514</td></tr>\n",
       "\t<tr><td>519</td><td>518</td><td>true </td><td>male  </td><td>517</td><td>C25.0</td><td>Bösartige Neubildung: Pankreaskopf                    </td><td>a</td><td>58.0</td><td>NA        </td><td>NA                      </td><td>NA                    </td><td>NA </td></tr>\n",
       "\t<tr><td>522</td><td>521</td><td>true </td><td>female</td><td>520</td><td>C25.0</td><td>Bösartige Neubildung: Pankreaskopf                    </td><td>a</td><td>64.0</td><td>NA        </td><td>NA                      </td><td>NA                    </td><td>NA </td></tr>\n",
       "\t<tr><td>525</td><td>524</td><td>false</td><td>female</td><td>523</td><td>C25.0</td><td>Bösartige Neubildung: Pankreaskopf                    </td><td>a</td><td>81.0</td><td>NA        </td><td>NA                      </td><td>NA                    </td><td>NA </td></tr>\n",
       "\t<tr><td>529</td><td>528</td><td>true </td><td>male  </td><td>526</td><td>C25.2</td><td>Bösartige Neubildung: Pankreasschwanz                 </td><td>a</td><td>43.0</td><td>1287742003</td><td>Radiotherapy (procedure)</td><td>http://snomed.info/sct</td><td>527</td></tr>\n",
       "\t<tr><td>532</td><td>531</td><td>true </td><td>female</td><td>530</td><td>C25.0</td><td>Bösartige Neubildung: Pankreaskopf                    </td><td>a</td><td>60.0</td><td>NA        </td><td>NA                      </td><td>NA                    </td><td>NA </td></tr>\n",
       "\t<tr><td>535</td><td>534</td><td>true </td><td>male  </td><td>533</td><td>C25.9</td><td>Bösartige Neubildung: Pankreas, nicht näher bezeichnet</td><td>a</td><td>67.0</td><td>NA        </td><td>NA                      </td><td>NA                    </td><td>NA </td></tr>\n",
       "\t<tr><td>539</td><td>538</td><td>true </td><td>female</td><td>536</td><td>C25.0</td><td>Bösartige Neubildung: Pankreaskopf                    </td><td>a</td><td>75.0</td><td>1287742003</td><td>Radiotherapy (procedure)</td><td>http://snomed.info/sct</td><td>537</td></tr>\n",
       "\t<tr><td>543</td><td>542</td><td>false</td><td>female</td><td>540</td><td>C25.0</td><td>Bösartige Neubildung: Pankreaskopf                    </td><td>a</td><td>77.0</td><td>1287742003</td><td>Radiotherapy (procedure)</td><td>http://snomed.info/sct</td><td>541</td></tr>\n",
       "\t<tr><td>546</td><td>545</td><td>false</td><td>female</td><td>544</td><td>C25.0</td><td>Bösartige Neubildung: Pankreaskopf                    </td><td>a</td><td>76.0</td><td>NA        </td><td>NA                      </td><td>NA                    </td><td>NA </td></tr>\n",
       "\t<tr><td>549</td><td>548</td><td>true </td><td>male  </td><td>547</td><td>C25.0</td><td>Bösartige Neubildung: Pankreaskopf                    </td><td>a</td><td>61.0</td><td>NA        </td><td>NA                      </td><td>NA                    </td><td>NA </td></tr>\n",
       "\t<tr><td>552</td><td>551</td><td>false</td><td>female</td><td>550</td><td>C25.0</td><td>Bösartige Neubildung: Pankreaskopf                    </td><td>a</td><td>54.0</td><td>NA        </td><td>NA                      </td><td>NA                    </td><td>NA </td></tr>\n",
       "\t<tr><td>555</td><td>554</td><td>false</td><td>male  </td><td>553</td><td>C25.0</td><td>Bösartige Neubildung: Pankreaskopf                    </td><td>a</td><td>73.0</td><td>NA        </td><td>NA                      </td><td>NA                    </td><td>NA </td></tr>\n",
       "\t<tr><td>558</td><td>557</td><td>false</td><td>male  </td><td>556</td><td>C25.0</td><td>Bösartige Neubildung: Pankreaskopf                    </td><td>a</td><td>64.0</td><td>NA        </td><td>NA                      </td><td>NA                    </td><td>NA </td></tr>\n",
       "\t<tr><td>561</td><td>560</td><td>false</td><td>female</td><td>559</td><td>C25.0</td><td>Bösartige Neubildung: Pankreaskopf                    </td><td>a</td><td>81.0</td><td>NA        </td><td>NA                      </td><td>NA                    </td><td>NA </td></tr>\n",
       "\t<tr><td>564</td><td>563</td><td>true </td><td>female</td><td>562</td><td>C25.1</td><td>Bösartige Neubildung: Pankreaskörper                  </td><td>a</td><td>66.0</td><td>NA        </td><td>NA                      </td><td>NA                    </td><td>NA </td></tr>\n",
       "\t<tr><td>568</td><td>567</td><td>true </td><td>female</td><td>565</td><td>C25.0</td><td>Bösartige Neubildung: Pankreaskopf                    </td><td>a</td><td>57.0</td><td>1287742003</td><td>Radiotherapy (procedure)</td><td>http://snomed.info/sct</td><td>566</td></tr>\n",
       "\t<tr><td>571</td><td>570</td><td>false</td><td>female</td><td>569</td><td>C25.0</td><td>Bösartige Neubildung: Pankreaskopf                    </td><td>a</td><td>50.0</td><td>NA        </td><td>NA                      </td><td>NA                    </td><td>NA </td></tr>\n",
       "\t<tr><td>574</td><td>573</td><td>true </td><td>male  </td><td>572</td><td>C25.0</td><td>Bösartige Neubildung: Pankreaskopf                    </td><td>a</td><td>56.0</td><td>NA        </td><td>NA                      </td><td>NA                    </td><td>NA </td></tr>\n",
       "\t<tr><td>578</td><td>577</td><td>true </td><td>male  </td><td>575</td><td>C25.0</td><td>Bösartige Neubildung: Pankreaskopf                    </td><td>a</td><td>67.0</td><td>1287742003</td><td>Radiotherapy (procedure)</td><td>http://snomed.info/sct</td><td>576</td></tr>\n",
       "\t<tr><td>582</td><td>581</td><td>true </td><td>female</td><td>579</td><td>C25.0</td><td>Bösartige Neubildung: Pankreaskopf                    </td><td>a</td><td>53.0</td><td>1287742003</td><td>Radiotherapy (procedure)</td><td>http://snomed.info/sct</td><td>580</td></tr>\n",
       "\t<tr><td>586</td><td>585</td><td>true </td><td>male  </td><td>583</td><td>C25.1</td><td>Bösartige Neubildung: Pankreaskörper                  </td><td>a</td><td>59.0</td><td>1287742003</td><td>Radiotherapy (procedure)</td><td>http://snomed.info/sct</td><td>584</td></tr>\n",
       "\t<tr><td>590</td><td>589</td><td>true </td><td>female</td><td>587</td><td>C25.0</td><td>Bösartige Neubildung: Pankreaskopf                    </td><td>a</td><td>73.0</td><td>1287742003</td><td>Radiotherapy (procedure)</td><td>http://snomed.info/sct</td><td>588</td></tr>\n",
       "\t<tr><td>594</td><td>593</td><td>true </td><td>female</td><td>591</td><td>C25.0</td><td>Bösartige Neubildung: Pankreaskopf                    </td><td>a</td><td>61.0</td><td>1287742003</td><td>Radiotherapy (procedure)</td><td>http://snomed.info/sct</td><td>592</td></tr>\n",
       "\t<tr><td>597</td><td>596</td><td>true </td><td>female</td><td>595</td><td>C25.9</td><td>Bösartige Neubildung: Pankreas, nicht näher bezeichnet</td><td>a</td><td>74.0</td><td>NA        </td><td>NA                      </td><td>NA                    </td><td>NA </td></tr>\n",
       "</tbody>\n",
       "</table>\n"
      ],
      "text/latex": [
       "A data.frame: 184 × 13\n",
       "\\begin{tabular}{lllllllllllll}\n",
       " subject\\_id & patient\\_id & deceasedBoolean & gender & condition\\_id & condition\\_code & condition\\_display & condition\\_onsetAge\\_unit & condition\\_onsetAge\\_value & procedure\\_code & procedure\\_display & procedure\\_system & procedure\\_id\\\\\n",
       " <chr> & <chr> & <chr> & <chr> & <chr> & <chr> & <chr> & <chr> & <chr> & <chr> & <chr> & <chr> & <chr>\\\\\n",
       "\\hline\n",
       "\t 4   & 3  & false & male   & 2  & C25.0 & Bösartige Neubildung: Pankreaskopf                               & a & 65.0 & NA         & NA                       & NA                     & NA\\\\\n",
       "\t 7   & 6  & true  & male   & 5  & C25.8 & Bösartige Neubildung: Pankreas, mehrere Teilbereiche überlappend & a & 48.0 & NA         & NA                       & NA                     & NA\\\\\n",
       "\t 10  & 9  & false & male   & 8  & C25.1 & Bösartige Neubildung: Pankreaskörper                             & a & 75.0 & NA         & NA                       & NA                     & NA\\\\\n",
       "\t 13  & 12 & true  & male   & 11 & C25.0 & Bösartige Neubildung: Pankreaskopf                               & a & 71.0 & NA         & NA                       & NA                     & NA\\\\\n",
       "\t 17  & 16 & false & female & 14 & C25.0 & Bösartige Neubildung: Pankreaskopf                               & a & 70.0 & 1287742003 & Radiotherapy (procedure) & http://snomed.info/sct & 15\\\\\n",
       "\t 20  & 19 & false & male   & 18 & C25.0 & Bösartige Neubildung: Pankreaskopf                               & a & 55.0 & NA         & NA                       & NA                     & NA\\\\\n",
       "\t 24  & 23 & true  & male   & 21 & C25.1 & Bösartige Neubildung: Pankreaskörper                             & a & 73.0 & 1287742003 & Radiotherapy (procedure) & http://snomed.info/sct & 22\\\\\n",
       "\t 28  & 27 & false & male   & 25 & C25.0 & Bösartige Neubildung: Pankreaskopf                               & a & 73.0 & 1287742003 & Radiotherapy (procedure) & http://snomed.info/sct & 26\\\\\n",
       "\t 31  & 30 & true  & male   & 29 & C25.1 & Bösartige Neubildung: Pankreaskörper                             & a & 61.0 & NA         & NA                       & NA                     & NA\\\\\n",
       "\t 35  & 34 & true  & female & 32 & C25.0 & Bösartige Neubildung: Pankreaskopf                               & a & 55.0 & 1287742003 & Radiotherapy (procedure) & http://snomed.info/sct & 33\\\\\n",
       "\t 39  & 38 & true  & male   & 36 & C25.0 & Bösartige Neubildung: Pankreaskopf                               & a & 71.0 & 1287742003 & Radiotherapy (procedure) & http://snomed.info/sct & 37\\\\\n",
       "\t 43  & 42 & true  & male   & 40 & C25.0 & Bösartige Neubildung: Pankreaskopf                               & a & 43.0 & 1287742003 & Radiotherapy (procedure) & http://snomed.info/sct & 41\\\\\n",
       "\t 46  & 45 & true  & female & 44 & C25.0 & Bösartige Neubildung: Pankreaskopf                               & a & 58.0 & NA         & NA                       & NA                     & NA\\\\\n",
       "\t 49  & 48 & true  & female & 47 & C25.8 & Bösartige Neubildung: Pankreas, mehrere Teilbereiche überlappend & a & 60.0 & NA         & NA                       & NA                     & NA\\\\\n",
       "\t 52  & 51 & true  & female & 50 & C25.0 & Bösartige Neubildung: Pankreaskopf                               & a & 72.0 & NA         & NA                       & NA                     & NA\\\\\n",
       "\t 55  & 54 & false & male   & 53 & C25.0 & Bösartige Neubildung: Pankreaskopf                               & a & 56.0 & NA         & NA                       & NA                     & NA\\\\\n",
       "\t 58  & 57 & false & male   & 56 & C25.0 & Bösartige Neubildung: Pankreaskopf                               & a & 74.0 & NA         & NA                       & NA                     & NA\\\\\n",
       "\t 61  & 60 & false & male   & 59 & C25.9 & Bösartige Neubildung: Pankreas, nicht näher bezeichnet           & a & 76.0 & NA         & NA                       & NA                     & NA\\\\\n",
       "\t 64  & 63 & false & male   & 62 & C25.0 & Bösartige Neubildung: Pankreaskopf                               & a & 56.0 & NA         & NA                       & NA                     & NA\\\\\n",
       "\t 67  & 66 & false & male   & 65 & C25.0 & Bösartige Neubildung: Pankreaskopf                               & a & 66.0 & NA         & NA                       & NA                     & NA\\\\\n",
       "\t 70  & 69 & false & female & 68 & C25.0 & Bösartige Neubildung: Pankreaskopf                               & a & 49.0 & NA         & NA                       & NA                     & NA\\\\\n",
       "\t 73  & 72 & false & male   & 71 & C25.0 & Bösartige Neubildung: Pankreaskopf                               & a & 82.0 & NA         & NA                       & NA                     & NA\\\\\n",
       "\t 76  & 75 & true  & male   & 74 & C25.0 & Bösartige Neubildung: Pankreaskopf                               & a & 52.0 & NA         & NA                       & NA                     & NA\\\\\n",
       "\t 80  & 79 & true  & male   & 77 & C25.0 & Bösartige Neubildung: Pankreaskopf                               & a & 57.0 & 1287742003 & Radiotherapy (procedure) & http://snomed.info/sct & 78\\\\\n",
       "\t 83  & 82 & true  & male   & 81 & C25.0 & Bösartige Neubildung: Pankreaskopf                               & a & 45.0 & NA         & NA                       & NA                     & NA\\\\\n",
       "\t 87  & 86 & false & male   & 84 & C25.0 & Bösartige Neubildung: Pankreaskopf                               & a & 67.0 & 1287742003 & Radiotherapy (procedure) & http://snomed.info/sct & 85\\\\\n",
       "\t 90  & 89 & false & female & 88 & C25.0 & Bösartige Neubildung: Pankreaskopf                               & a & 69.0 & NA         & NA                       & NA                     & NA\\\\\n",
       "\t 94  & 93 & false & female & 91 & C25.0 & Bösartige Neubildung: Pankreaskopf                               & a & 61.0 & 1287742003 & Radiotherapy (procedure) & http://snomed.info/sct & 92\\\\\n",
       "\t 97  & 96 & true  & female & 95 & C25.1 & Bösartige Neubildung: Pankreaskörper                             & a & 66.0 & NA         & NA                       & NA                     & NA\\\\\n",
       "\t 100 & 99 & true  & male   & 98 & C25.0 & Bösartige Neubildung: Pankreaskopf                               & a & 65.0 & NA         & NA                       & NA                     & NA\\\\\n",
       "\t ⋮ & ⋮ & ⋮ & ⋮ & ⋮ & ⋮ & ⋮ & ⋮ & ⋮ & ⋮ & ⋮ & ⋮ & ⋮\\\\\n",
       "\t 496 & 495 & false & female & 494 & C25.0 & Bösartige Neubildung: Pankreaskopf                     & a & 74.0 & NA         & NA                       & NA                     & NA \\\\\n",
       "\t 500 & 499 & true  & female & 497 & C25.0 & Bösartige Neubildung: Pankreaskopf                     & a & 64.0 & 1287742003 & Radiotherapy (procedure) & http://snomed.info/sct & 498\\\\\n",
       "\t 504 & 503 & false & female & 501 & C25.0 & Bösartige Neubildung: Pankreaskopf                     & a & 63.0 & 1287742003 & Radiotherapy (procedure) & http://snomed.info/sct & 502\\\\\n",
       "\t 508 & 507 & true  & female & 505 & C25.0 & Bösartige Neubildung: Pankreaskopf                     & a & 48.0 & 1287742003 & Radiotherapy (procedure) & http://snomed.info/sct & 506\\\\\n",
       "\t 512 & 511 & false & male   & 509 & C25.2 & Bösartige Neubildung: Pankreasschwanz                  & a & 75.0 & 1287742003 & Radiotherapy (procedure) & http://snomed.info/sct & 510\\\\\n",
       "\t 516 & 515 & false & female & 513 & C25.0 & Bösartige Neubildung: Pankreaskopf                     & a & 44.0 & 1287742003 & Radiotherapy (procedure) & http://snomed.info/sct & 514\\\\\n",
       "\t 519 & 518 & true  & male   & 517 & C25.0 & Bösartige Neubildung: Pankreaskopf                     & a & 58.0 & NA         & NA                       & NA                     & NA \\\\\n",
       "\t 522 & 521 & true  & female & 520 & C25.0 & Bösartige Neubildung: Pankreaskopf                     & a & 64.0 & NA         & NA                       & NA                     & NA \\\\\n",
       "\t 525 & 524 & false & female & 523 & C25.0 & Bösartige Neubildung: Pankreaskopf                     & a & 81.0 & NA         & NA                       & NA                     & NA \\\\\n",
       "\t 529 & 528 & true  & male   & 526 & C25.2 & Bösartige Neubildung: Pankreasschwanz                  & a & 43.0 & 1287742003 & Radiotherapy (procedure) & http://snomed.info/sct & 527\\\\\n",
       "\t 532 & 531 & true  & female & 530 & C25.0 & Bösartige Neubildung: Pankreaskopf                     & a & 60.0 & NA         & NA                       & NA                     & NA \\\\\n",
       "\t 535 & 534 & true  & male   & 533 & C25.9 & Bösartige Neubildung: Pankreas, nicht näher bezeichnet & a & 67.0 & NA         & NA                       & NA                     & NA \\\\\n",
       "\t 539 & 538 & true  & female & 536 & C25.0 & Bösartige Neubildung: Pankreaskopf                     & a & 75.0 & 1287742003 & Radiotherapy (procedure) & http://snomed.info/sct & 537\\\\\n",
       "\t 543 & 542 & false & female & 540 & C25.0 & Bösartige Neubildung: Pankreaskopf                     & a & 77.0 & 1287742003 & Radiotherapy (procedure) & http://snomed.info/sct & 541\\\\\n",
       "\t 546 & 545 & false & female & 544 & C25.0 & Bösartige Neubildung: Pankreaskopf                     & a & 76.0 & NA         & NA                       & NA                     & NA \\\\\n",
       "\t 549 & 548 & true  & male   & 547 & C25.0 & Bösartige Neubildung: Pankreaskopf                     & a & 61.0 & NA         & NA                       & NA                     & NA \\\\\n",
       "\t 552 & 551 & false & female & 550 & C25.0 & Bösartige Neubildung: Pankreaskopf                     & a & 54.0 & NA         & NA                       & NA                     & NA \\\\\n",
       "\t 555 & 554 & false & male   & 553 & C25.0 & Bösartige Neubildung: Pankreaskopf                     & a & 73.0 & NA         & NA                       & NA                     & NA \\\\\n",
       "\t 558 & 557 & false & male   & 556 & C25.0 & Bösartige Neubildung: Pankreaskopf                     & a & 64.0 & NA         & NA                       & NA                     & NA \\\\\n",
       "\t 561 & 560 & false & female & 559 & C25.0 & Bösartige Neubildung: Pankreaskopf                     & a & 81.0 & NA         & NA                       & NA                     & NA \\\\\n",
       "\t 564 & 563 & true  & female & 562 & C25.1 & Bösartige Neubildung: Pankreaskörper                   & a & 66.0 & NA         & NA                       & NA                     & NA \\\\\n",
       "\t 568 & 567 & true  & female & 565 & C25.0 & Bösartige Neubildung: Pankreaskopf                     & a & 57.0 & 1287742003 & Radiotherapy (procedure) & http://snomed.info/sct & 566\\\\\n",
       "\t 571 & 570 & false & female & 569 & C25.0 & Bösartige Neubildung: Pankreaskopf                     & a & 50.0 & NA         & NA                       & NA                     & NA \\\\\n",
       "\t 574 & 573 & true  & male   & 572 & C25.0 & Bösartige Neubildung: Pankreaskopf                     & a & 56.0 & NA         & NA                       & NA                     & NA \\\\\n",
       "\t 578 & 577 & true  & male   & 575 & C25.0 & Bösartige Neubildung: Pankreaskopf                     & a & 67.0 & 1287742003 & Radiotherapy (procedure) & http://snomed.info/sct & 576\\\\\n",
       "\t 582 & 581 & true  & female & 579 & C25.0 & Bösartige Neubildung: Pankreaskopf                     & a & 53.0 & 1287742003 & Radiotherapy (procedure) & http://snomed.info/sct & 580\\\\\n",
       "\t 586 & 585 & true  & male   & 583 & C25.1 & Bösartige Neubildung: Pankreaskörper                   & a & 59.0 & 1287742003 & Radiotherapy (procedure) & http://snomed.info/sct & 584\\\\\n",
       "\t 590 & 589 & true  & female & 587 & C25.0 & Bösartige Neubildung: Pankreaskopf                     & a & 73.0 & 1287742003 & Radiotherapy (procedure) & http://snomed.info/sct & 588\\\\\n",
       "\t 594 & 593 & true  & female & 591 & C25.0 & Bösartige Neubildung: Pankreaskopf                     & a & 61.0 & 1287742003 & Radiotherapy (procedure) & http://snomed.info/sct & 592\\\\\n",
       "\t 597 & 596 & true  & female & 595 & C25.9 & Bösartige Neubildung: Pankreas, nicht näher bezeichnet & a & 74.0 & NA         & NA                       & NA                     & NA \\\\\n",
       "\\end{tabular}\n"
      ],
      "text/markdown": [
       "\n",
       "A data.frame: 184 × 13\n",
       "\n",
       "| subject_id &lt;chr&gt; | patient_id &lt;chr&gt; | deceasedBoolean &lt;chr&gt; | gender &lt;chr&gt; | condition_id &lt;chr&gt; | condition_code &lt;chr&gt; | condition_display &lt;chr&gt; | condition_onsetAge_unit &lt;chr&gt; | condition_onsetAge_value &lt;chr&gt; | procedure_code &lt;chr&gt; | procedure_display &lt;chr&gt; | procedure_system &lt;chr&gt; | procedure_id &lt;chr&gt; |\n",
       "|---|---|---|---|---|---|---|---|---|---|---|---|---|\n",
       "| 4   | 3  | false | male   | 2  | C25.0 | Bösartige Neubildung: Pankreaskopf                               | a | 65.0 | NA         | NA                       | NA                     | NA |\n",
       "| 7   | 6  | true  | male   | 5  | C25.8 | Bösartige Neubildung: Pankreas, mehrere Teilbereiche überlappend | a | 48.0 | NA         | NA                       | NA                     | NA |\n",
       "| 10  | 9  | false | male   | 8  | C25.1 | Bösartige Neubildung: Pankreaskörper                             | a | 75.0 | NA         | NA                       | NA                     | NA |\n",
       "| 13  | 12 | true  | male   | 11 | C25.0 | Bösartige Neubildung: Pankreaskopf                               | a | 71.0 | NA         | NA                       | NA                     | NA |\n",
       "| 17  | 16 | false | female | 14 | C25.0 | Bösartige Neubildung: Pankreaskopf                               | a | 70.0 | 1287742003 | Radiotherapy (procedure) | http://snomed.info/sct | 15 |\n",
       "| 20  | 19 | false | male   | 18 | C25.0 | Bösartige Neubildung: Pankreaskopf                               | a | 55.0 | NA         | NA                       | NA                     | NA |\n",
       "| 24  | 23 | true  | male   | 21 | C25.1 | Bösartige Neubildung: Pankreaskörper                             | a | 73.0 | 1287742003 | Radiotherapy (procedure) | http://snomed.info/sct | 22 |\n",
       "| 28  | 27 | false | male   | 25 | C25.0 | Bösartige Neubildung: Pankreaskopf                               | a | 73.0 | 1287742003 | Radiotherapy (procedure) | http://snomed.info/sct | 26 |\n",
       "| 31  | 30 | true  | male   | 29 | C25.1 | Bösartige Neubildung: Pankreaskörper                             | a | 61.0 | NA         | NA                       | NA                     | NA |\n",
       "| 35  | 34 | true  | female | 32 | C25.0 | Bösartige Neubildung: Pankreaskopf                               | a | 55.0 | 1287742003 | Radiotherapy (procedure) | http://snomed.info/sct | 33 |\n",
       "| 39  | 38 | true  | male   | 36 | C25.0 | Bösartige Neubildung: Pankreaskopf                               | a | 71.0 | 1287742003 | Radiotherapy (procedure) | http://snomed.info/sct | 37 |\n",
       "| 43  | 42 | true  | male   | 40 | C25.0 | Bösartige Neubildung: Pankreaskopf                               | a | 43.0 | 1287742003 | Radiotherapy (procedure) | http://snomed.info/sct | 41 |\n",
       "| 46  | 45 | true  | female | 44 | C25.0 | Bösartige Neubildung: Pankreaskopf                               | a | 58.0 | NA         | NA                       | NA                     | NA |\n",
       "| 49  | 48 | true  | female | 47 | C25.8 | Bösartige Neubildung: Pankreas, mehrere Teilbereiche überlappend | a | 60.0 | NA         | NA                       | NA                     | NA |\n",
       "| 52  | 51 | true  | female | 50 | C25.0 | Bösartige Neubildung: Pankreaskopf                               | a | 72.0 | NA         | NA                       | NA                     | NA |\n",
       "| 55  | 54 | false | male   | 53 | C25.0 | Bösartige Neubildung: Pankreaskopf                               | a | 56.0 | NA         | NA                       | NA                     | NA |\n",
       "| 58  | 57 | false | male   | 56 | C25.0 | Bösartige Neubildung: Pankreaskopf                               | a | 74.0 | NA         | NA                       | NA                     | NA |\n",
       "| 61  | 60 | false | male   | 59 | C25.9 | Bösartige Neubildung: Pankreas, nicht näher bezeichnet           | a | 76.0 | NA         | NA                       | NA                     | NA |\n",
       "| 64  | 63 | false | male   | 62 | C25.0 | Bösartige Neubildung: Pankreaskopf                               | a | 56.0 | NA         | NA                       | NA                     | NA |\n",
       "| 67  | 66 | false | male   | 65 | C25.0 | Bösartige Neubildung: Pankreaskopf                               | a | 66.0 | NA         | NA                       | NA                     | NA |\n",
       "| 70  | 69 | false | female | 68 | C25.0 | Bösartige Neubildung: Pankreaskopf                               | a | 49.0 | NA         | NA                       | NA                     | NA |\n",
       "| 73  | 72 | false | male   | 71 | C25.0 | Bösartige Neubildung: Pankreaskopf                               | a | 82.0 | NA         | NA                       | NA                     | NA |\n",
       "| 76  | 75 | true  | male   | 74 | C25.0 | Bösartige Neubildung: Pankreaskopf                               | a | 52.0 | NA         | NA                       | NA                     | NA |\n",
       "| 80  | 79 | true  | male   | 77 | C25.0 | Bösartige Neubildung: Pankreaskopf                               | a | 57.0 | 1287742003 | Radiotherapy (procedure) | http://snomed.info/sct | 78 |\n",
       "| 83  | 82 | true  | male   | 81 | C25.0 | Bösartige Neubildung: Pankreaskopf                               | a | 45.0 | NA         | NA                       | NA                     | NA |\n",
       "| 87  | 86 | false | male   | 84 | C25.0 | Bösartige Neubildung: Pankreaskopf                               | a | 67.0 | 1287742003 | Radiotherapy (procedure) | http://snomed.info/sct | 85 |\n",
       "| 90  | 89 | false | female | 88 | C25.0 | Bösartige Neubildung: Pankreaskopf                               | a | 69.0 | NA         | NA                       | NA                     | NA |\n",
       "| 94  | 93 | false | female | 91 | C25.0 | Bösartige Neubildung: Pankreaskopf                               | a | 61.0 | 1287742003 | Radiotherapy (procedure) | http://snomed.info/sct | 92 |\n",
       "| 97  | 96 | true  | female | 95 | C25.1 | Bösartige Neubildung: Pankreaskörper                             | a | 66.0 | NA         | NA                       | NA                     | NA |\n",
       "| 100 | 99 | true  | male   | 98 | C25.0 | Bösartige Neubildung: Pankreaskopf                               | a | 65.0 | NA         | NA                       | NA                     | NA |\n",
       "| ⋮ | ⋮ | ⋮ | ⋮ | ⋮ | ⋮ | ⋮ | ⋮ | ⋮ | ⋮ | ⋮ | ⋮ | ⋮ |\n",
       "| 496 | 495 | false | female | 494 | C25.0 | Bösartige Neubildung: Pankreaskopf                     | a | 74.0 | NA         | NA                       | NA                     | NA  |\n",
       "| 500 | 499 | true  | female | 497 | C25.0 | Bösartige Neubildung: Pankreaskopf                     | a | 64.0 | 1287742003 | Radiotherapy (procedure) | http://snomed.info/sct | 498 |\n",
       "| 504 | 503 | false | female | 501 | C25.0 | Bösartige Neubildung: Pankreaskopf                     | a | 63.0 | 1287742003 | Radiotherapy (procedure) | http://snomed.info/sct | 502 |\n",
       "| 508 | 507 | true  | female | 505 | C25.0 | Bösartige Neubildung: Pankreaskopf                     | a | 48.0 | 1287742003 | Radiotherapy (procedure) | http://snomed.info/sct | 506 |\n",
       "| 512 | 511 | false | male   | 509 | C25.2 | Bösartige Neubildung: Pankreasschwanz                  | a | 75.0 | 1287742003 | Radiotherapy (procedure) | http://snomed.info/sct | 510 |\n",
       "| 516 | 515 | false | female | 513 | C25.0 | Bösartige Neubildung: Pankreaskopf                     | a | 44.0 | 1287742003 | Radiotherapy (procedure) | http://snomed.info/sct | 514 |\n",
       "| 519 | 518 | true  | male   | 517 | C25.0 | Bösartige Neubildung: Pankreaskopf                     | a | 58.0 | NA         | NA                       | NA                     | NA  |\n",
       "| 522 | 521 | true  | female | 520 | C25.0 | Bösartige Neubildung: Pankreaskopf                     | a | 64.0 | NA         | NA                       | NA                     | NA  |\n",
       "| 525 | 524 | false | female | 523 | C25.0 | Bösartige Neubildung: Pankreaskopf                     | a | 81.0 | NA         | NA                       | NA                     | NA  |\n",
       "| 529 | 528 | true  | male   | 526 | C25.2 | Bösartige Neubildung: Pankreasschwanz                  | a | 43.0 | 1287742003 | Radiotherapy (procedure) | http://snomed.info/sct | 527 |\n",
       "| 532 | 531 | true  | female | 530 | C25.0 | Bösartige Neubildung: Pankreaskopf                     | a | 60.0 | NA         | NA                       | NA                     | NA  |\n",
       "| 535 | 534 | true  | male   | 533 | C25.9 | Bösartige Neubildung: Pankreas, nicht näher bezeichnet | a | 67.0 | NA         | NA                       | NA                     | NA  |\n",
       "| 539 | 538 | true  | female | 536 | C25.0 | Bösartige Neubildung: Pankreaskopf                     | a | 75.0 | 1287742003 | Radiotherapy (procedure) | http://snomed.info/sct | 537 |\n",
       "| 543 | 542 | false | female | 540 | C25.0 | Bösartige Neubildung: Pankreaskopf                     | a | 77.0 | 1287742003 | Radiotherapy (procedure) | http://snomed.info/sct | 541 |\n",
       "| 546 | 545 | false | female | 544 | C25.0 | Bösartige Neubildung: Pankreaskopf                     | a | 76.0 | NA         | NA                       | NA                     | NA  |\n",
       "| 549 | 548 | true  | male   | 547 | C25.0 | Bösartige Neubildung: Pankreaskopf                     | a | 61.0 | NA         | NA                       | NA                     | NA  |\n",
       "| 552 | 551 | false | female | 550 | C25.0 | Bösartige Neubildung: Pankreaskopf                     | a | 54.0 | NA         | NA                       | NA                     | NA  |\n",
       "| 555 | 554 | false | male   | 553 | C25.0 | Bösartige Neubildung: Pankreaskopf                     | a | 73.0 | NA         | NA                       | NA                     | NA  |\n",
       "| 558 | 557 | false | male   | 556 | C25.0 | Bösartige Neubildung: Pankreaskopf                     | a | 64.0 | NA         | NA                       | NA                     | NA  |\n",
       "| 561 | 560 | false | female | 559 | C25.0 | Bösartige Neubildung: Pankreaskopf                     | a | 81.0 | NA         | NA                       | NA                     | NA  |\n",
       "| 564 | 563 | true  | female | 562 | C25.1 | Bösartige Neubildung: Pankreaskörper                   | a | 66.0 | NA         | NA                       | NA                     | NA  |\n",
       "| 568 | 567 | true  | female | 565 | C25.0 | Bösartige Neubildung: Pankreaskopf                     | a | 57.0 | 1287742003 | Radiotherapy (procedure) | http://snomed.info/sct | 566 |\n",
       "| 571 | 570 | false | female | 569 | C25.0 | Bösartige Neubildung: Pankreaskopf                     | a | 50.0 | NA         | NA                       | NA                     | NA  |\n",
       "| 574 | 573 | true  | male   | 572 | C25.0 | Bösartige Neubildung: Pankreaskopf                     | a | 56.0 | NA         | NA                       | NA                     | NA  |\n",
       "| 578 | 577 | true  | male   | 575 | C25.0 | Bösartige Neubildung: Pankreaskopf                     | a | 67.0 | 1287742003 | Radiotherapy (procedure) | http://snomed.info/sct | 576 |\n",
       "| 582 | 581 | true  | female | 579 | C25.0 | Bösartige Neubildung: Pankreaskopf                     | a | 53.0 | 1287742003 | Radiotherapy (procedure) | http://snomed.info/sct | 580 |\n",
       "| 586 | 585 | true  | male   | 583 | C25.1 | Bösartige Neubildung: Pankreaskörper                   | a | 59.0 | 1287742003 | Radiotherapy (procedure) | http://snomed.info/sct | 584 |\n",
       "| 590 | 589 | true  | female | 587 | C25.0 | Bösartige Neubildung: Pankreaskopf                     | a | 73.0 | 1287742003 | Radiotherapy (procedure) | http://snomed.info/sct | 588 |\n",
       "| 594 | 593 | true  | female | 591 | C25.0 | Bösartige Neubildung: Pankreaskopf                     | a | 61.0 | 1287742003 | Radiotherapy (procedure) | http://snomed.info/sct | 592 |\n",
       "| 597 | 596 | true  | female | 595 | C25.9 | Bösartige Neubildung: Pankreas, nicht näher bezeichnet | a | 74.0 | NA         | NA                       | NA                     | NA  |\n",
       "\n"
      ],
      "text/plain": [
       "    subject_id patient_id deceasedBoolean gender condition_id condition_code\n",
       "1   4          3          false           male   2            C25.0         \n",
       "2   7          6          true            male   5            C25.8         \n",
       "3   10         9          false           male   8            C25.1         \n",
       "4   13         12         true            male   11           C25.0         \n",
       "5   17         16         false           female 14           C25.0         \n",
       "6   20         19         false           male   18           C25.0         \n",
       "7   24         23         true            male   21           C25.1         \n",
       "8   28         27         false           male   25           C25.0         \n",
       "9   31         30         true            male   29           C25.1         \n",
       "10  35         34         true            female 32           C25.0         \n",
       "11  39         38         true            male   36           C25.0         \n",
       "12  43         42         true            male   40           C25.0         \n",
       "13  46         45         true            female 44           C25.0         \n",
       "14  49         48         true            female 47           C25.8         \n",
       "15  52         51         true            female 50           C25.0         \n",
       "16  55         54         false           male   53           C25.0         \n",
       "17  58         57         false           male   56           C25.0         \n",
       "18  61         60         false           male   59           C25.9         \n",
       "19  64         63         false           male   62           C25.0         \n",
       "20  67         66         false           male   65           C25.0         \n",
       "21  70         69         false           female 68           C25.0         \n",
       "22  73         72         false           male   71           C25.0         \n",
       "23  76         75         true            male   74           C25.0         \n",
       "24  80         79         true            male   77           C25.0         \n",
       "25  83         82         true            male   81           C25.0         \n",
       "26  87         86         false           male   84           C25.0         \n",
       "27  90         89         false           female 88           C25.0         \n",
       "28  94         93         false           female 91           C25.0         \n",
       "29  97         96         true            female 95           C25.1         \n",
       "30  100        99         true            male   98           C25.0         \n",
       "⋮   ⋮          ⋮          ⋮               ⋮      ⋮            ⋮             \n",
       "155 496        495        false           female 494          C25.0         \n",
       "156 500        499        true            female 497          C25.0         \n",
       "157 504        503        false           female 501          C25.0         \n",
       "158 508        507        true            female 505          C25.0         \n",
       "159 512        511        false           male   509          C25.2         \n",
       "160 516        515        false           female 513          C25.0         \n",
       "161 519        518        true            male   517          C25.0         \n",
       "162 522        521        true            female 520          C25.0         \n",
       "163 525        524        false           female 523          C25.0         \n",
       "164 529        528        true            male   526          C25.2         \n",
       "165 532        531        true            female 530          C25.0         \n",
       "166 535        534        true            male   533          C25.9         \n",
       "167 539        538        true            female 536          C25.0         \n",
       "168 543        542        false           female 540          C25.0         \n",
       "169 546        545        false           female 544          C25.0         \n",
       "170 549        548        true            male   547          C25.0         \n",
       "171 552        551        false           female 550          C25.0         \n",
       "172 555        554        false           male   553          C25.0         \n",
       "173 558        557        false           male   556          C25.0         \n",
       "174 561        560        false           female 559          C25.0         \n",
       "175 564        563        true            female 562          C25.1         \n",
       "176 568        567        true            female 565          C25.0         \n",
       "177 571        570        false           female 569          C25.0         \n",
       "178 574        573        true            male   572          C25.0         \n",
       "179 578        577        true            male   575          C25.0         \n",
       "180 582        581        true            female 579          C25.0         \n",
       "181 586        585        true            male   583          C25.1         \n",
       "182 590        589        true            female 587          C25.0         \n",
       "183 594        593        true            female 591          C25.0         \n",
       "184 597        596        true            female 595          C25.9         \n",
       "    condition_display                                               \n",
       "1   Bösartige Neubildung: Pankreaskopf                              \n",
       "2   Bösartige Neubildung: Pankreas, mehrere Teilbereiche überlappend\n",
       "3   Bösartige Neubildung: Pankreaskörper                            \n",
       "4   Bösartige Neubildung: Pankreaskopf                              \n",
       "5   Bösartige Neubildung: Pankreaskopf                              \n",
       "6   Bösartige Neubildung: Pankreaskopf                              \n",
       "7   Bösartige Neubildung: Pankreaskörper                            \n",
       "8   Bösartige Neubildung: Pankreaskopf                              \n",
       "9   Bösartige Neubildung: Pankreaskörper                            \n",
       "10  Bösartige Neubildung: Pankreaskopf                              \n",
       "11  Bösartige Neubildung: Pankreaskopf                              \n",
       "12  Bösartige Neubildung: Pankreaskopf                              \n",
       "13  Bösartige Neubildung: Pankreaskopf                              \n",
       "14  Bösartige Neubildung: Pankreas, mehrere Teilbereiche überlappend\n",
       "15  Bösartige Neubildung: Pankreaskopf                              \n",
       "16  Bösartige Neubildung: Pankreaskopf                              \n",
       "17  Bösartige Neubildung: Pankreaskopf                              \n",
       "18  Bösartige Neubildung: Pankreas, nicht näher bezeichnet          \n",
       "19  Bösartige Neubildung: Pankreaskopf                              \n",
       "20  Bösartige Neubildung: Pankreaskopf                              \n",
       "21  Bösartige Neubildung: Pankreaskopf                              \n",
       "22  Bösartige Neubildung: Pankreaskopf                              \n",
       "23  Bösartige Neubildung: Pankreaskopf                              \n",
       "24  Bösartige Neubildung: Pankreaskopf                              \n",
       "25  Bösartige Neubildung: Pankreaskopf                              \n",
       "26  Bösartige Neubildung: Pankreaskopf                              \n",
       "27  Bösartige Neubildung: Pankreaskopf                              \n",
       "28  Bösartige Neubildung: Pankreaskopf                              \n",
       "29  Bösartige Neubildung: Pankreaskörper                            \n",
       "30  Bösartige Neubildung: Pankreaskopf                              \n",
       "⋮   ⋮                                                               \n",
       "155 Bösartige Neubildung: Pankreaskopf                              \n",
       "156 Bösartige Neubildung: Pankreaskopf                              \n",
       "157 Bösartige Neubildung: Pankreaskopf                              \n",
       "158 Bösartige Neubildung: Pankreaskopf                              \n",
       "159 Bösartige Neubildung: Pankreasschwanz                           \n",
       "160 Bösartige Neubildung: Pankreaskopf                              \n",
       "161 Bösartige Neubildung: Pankreaskopf                              \n",
       "162 Bösartige Neubildung: Pankreaskopf                              \n",
       "163 Bösartige Neubildung: Pankreaskopf                              \n",
       "164 Bösartige Neubildung: Pankreasschwanz                           \n",
       "165 Bösartige Neubildung: Pankreaskopf                              \n",
       "166 Bösartige Neubildung: Pankreas, nicht näher bezeichnet          \n",
       "167 Bösartige Neubildung: Pankreaskopf                              \n",
       "168 Bösartige Neubildung: Pankreaskopf                              \n",
       "169 Bösartige Neubildung: Pankreaskopf                              \n",
       "170 Bösartige Neubildung: Pankreaskopf                              \n",
       "171 Bösartige Neubildung: Pankreaskopf                              \n",
       "172 Bösartige Neubildung: Pankreaskopf                              \n",
       "173 Bösartige Neubildung: Pankreaskopf                              \n",
       "174 Bösartige Neubildung: Pankreaskopf                              \n",
       "175 Bösartige Neubildung: Pankreaskörper                            \n",
       "176 Bösartige Neubildung: Pankreaskopf                              \n",
       "177 Bösartige Neubildung: Pankreaskopf                              \n",
       "178 Bösartige Neubildung: Pankreaskopf                              \n",
       "179 Bösartige Neubildung: Pankreaskopf                              \n",
       "180 Bösartige Neubildung: Pankreaskopf                              \n",
       "181 Bösartige Neubildung: Pankreaskörper                            \n",
       "182 Bösartige Neubildung: Pankreaskopf                              \n",
       "183 Bösartige Neubildung: Pankreaskopf                              \n",
       "184 Bösartige Neubildung: Pankreas, nicht näher bezeichnet          \n",
       "    condition_onsetAge_unit condition_onsetAge_value procedure_code\n",
       "1   a                       65.0                     NA            \n",
       "2   a                       48.0                     NA            \n",
       "3   a                       75.0                     NA            \n",
       "4   a                       71.0                     NA            \n",
       "5   a                       70.0                     1287742003    \n",
       "6   a                       55.0                     NA            \n",
       "7   a                       73.0                     1287742003    \n",
       "8   a                       73.0                     1287742003    \n",
       "9   a                       61.0                     NA            \n",
       "10  a                       55.0                     1287742003    \n",
       "11  a                       71.0                     1287742003    \n",
       "12  a                       43.0                     1287742003    \n",
       "13  a                       58.0                     NA            \n",
       "14  a                       60.0                     NA            \n",
       "15  a                       72.0                     NA            \n",
       "16  a                       56.0                     NA            \n",
       "17  a                       74.0                     NA            \n",
       "18  a                       76.0                     NA            \n",
       "19  a                       56.0                     NA            \n",
       "20  a                       66.0                     NA            \n",
       "21  a                       49.0                     NA            \n",
       "22  a                       82.0                     NA            \n",
       "23  a                       52.0                     NA            \n",
       "24  a                       57.0                     1287742003    \n",
       "25  a                       45.0                     NA            \n",
       "26  a                       67.0                     1287742003    \n",
       "27  a                       69.0                     NA            \n",
       "28  a                       61.0                     1287742003    \n",
       "29  a                       66.0                     NA            \n",
       "30  a                       65.0                     NA            \n",
       "⋮   ⋮                       ⋮                        ⋮             \n",
       "155 a                       74.0                     NA            \n",
       "156 a                       64.0                     1287742003    \n",
       "157 a                       63.0                     1287742003    \n",
       "158 a                       48.0                     1287742003    \n",
       "159 a                       75.0                     1287742003    \n",
       "160 a                       44.0                     1287742003    \n",
       "161 a                       58.0                     NA            \n",
       "162 a                       64.0                     NA            \n",
       "163 a                       81.0                     NA            \n",
       "164 a                       43.0                     1287742003    \n",
       "165 a                       60.0                     NA            \n",
       "166 a                       67.0                     NA            \n",
       "167 a                       75.0                     1287742003    \n",
       "168 a                       77.0                     1287742003    \n",
       "169 a                       76.0                     NA            \n",
       "170 a                       61.0                     NA            \n",
       "171 a                       54.0                     NA            \n",
       "172 a                       73.0                     NA            \n",
       "173 a                       64.0                     NA            \n",
       "174 a                       81.0                     NA            \n",
       "175 a                       66.0                     NA            \n",
       "176 a                       57.0                     1287742003    \n",
       "177 a                       50.0                     NA            \n",
       "178 a                       56.0                     NA            \n",
       "179 a                       67.0                     1287742003    \n",
       "180 a                       53.0                     1287742003    \n",
       "181 a                       59.0                     1287742003    \n",
       "182 a                       73.0                     1287742003    \n",
       "183 a                       61.0                     1287742003    \n",
       "184 a                       74.0                     NA            \n",
       "    procedure_display        procedure_system       procedure_id\n",
       "1   NA                       NA                     NA          \n",
       "2   NA                       NA                     NA          \n",
       "3   NA                       NA                     NA          \n",
       "4   NA                       NA                     NA          \n",
       "5   Radiotherapy (procedure) http://snomed.info/sct 15          \n",
       "6   NA                       NA                     NA          \n",
       "7   Radiotherapy (procedure) http://snomed.info/sct 22          \n",
       "8   Radiotherapy (procedure) http://snomed.info/sct 26          \n",
       "9   NA                       NA                     NA          \n",
       "10  Radiotherapy (procedure) http://snomed.info/sct 33          \n",
       "11  Radiotherapy (procedure) http://snomed.info/sct 37          \n",
       "12  Radiotherapy (procedure) http://snomed.info/sct 41          \n",
       "13  NA                       NA                     NA          \n",
       "14  NA                       NA                     NA          \n",
       "15  NA                       NA                     NA          \n",
       "16  NA                       NA                     NA          \n",
       "17  NA                       NA                     NA          \n",
       "18  NA                       NA                     NA          \n",
       "19  NA                       NA                     NA          \n",
       "20  NA                       NA                     NA          \n",
       "21  NA                       NA                     NA          \n",
       "22  NA                       NA                     NA          \n",
       "23  NA                       NA                     NA          \n",
       "24  Radiotherapy (procedure) http://snomed.info/sct 78          \n",
       "25  NA                       NA                     NA          \n",
       "26  Radiotherapy (procedure) http://snomed.info/sct 85          \n",
       "27  NA                       NA                     NA          \n",
       "28  Radiotherapy (procedure) http://snomed.info/sct 92          \n",
       "29  NA                       NA                     NA          \n",
       "30  NA                       NA                     NA          \n",
       "⋮   ⋮                        ⋮                      ⋮           \n",
       "155 NA                       NA                     NA          \n",
       "156 Radiotherapy (procedure) http://snomed.info/sct 498         \n",
       "157 Radiotherapy (procedure) http://snomed.info/sct 502         \n",
       "158 Radiotherapy (procedure) http://snomed.info/sct 506         \n",
       "159 Radiotherapy (procedure) http://snomed.info/sct 510         \n",
       "160 Radiotherapy (procedure) http://snomed.info/sct 514         \n",
       "161 NA                       NA                     NA          \n",
       "162 NA                       NA                     NA          \n",
       "163 NA                       NA                     NA          \n",
       "164 Radiotherapy (procedure) http://snomed.info/sct 527         \n",
       "165 NA                       NA                     NA          \n",
       "166 NA                       NA                     NA          \n",
       "167 Radiotherapy (procedure) http://snomed.info/sct 537         \n",
       "168 Radiotherapy (procedure) http://snomed.info/sct 541         \n",
       "169 NA                       NA                     NA          \n",
       "170 NA                       NA                     NA          \n",
       "171 NA                       NA                     NA          \n",
       "172 NA                       NA                     NA          \n",
       "173 NA                       NA                     NA          \n",
       "174 NA                       NA                     NA          \n",
       "175 NA                       NA                     NA          \n",
       "176 Radiotherapy (procedure) http://snomed.info/sct 566         \n",
       "177 NA                       NA                     NA          \n",
       "178 NA                       NA                     NA          \n",
       "179 Radiotherapy (procedure) http://snomed.info/sct 576         \n",
       "180 Radiotherapy (procedure) http://snomed.info/sct 580         \n",
       "181 Radiotherapy (procedure) http://snomed.info/sct 584         \n",
       "182 Radiotherapy (procedure) http://snomed.info/sct 588         \n",
       "183 Radiotherapy (procedure) http://snomed.info/sct 592         \n",
       "184 NA                       NA                     NA          "
      ]
     },
     "metadata": {},
     "output_type": "display_data"
    }
   ],
   "source": [
    "patient_id_join <- paste(joined_subject_data$patient_id, collapse = ',')\n",
    "condition_url <- fhir_url(\n",
    "  url=endpoint,\n",
    "  resource=\"Condition\",\n",
    "  parameters=c(\n",
    "    \"subject\"=patient_id_join\n",
    "  )\n",
    ")\n",
    "condition_data <- fhir_crack(\n",
    "  bundles=fhir_search(condition_url, verbose=0),\n",
    "  design=fhir_table_description(\n",
    "    resource=\"Condition\",\n",
    "    cols=c(\n",
    "      condition_id=\"id\",\n",
    "      condition_code=\"code/coding/code\",\n",
    "      condition_display=\"code/coding/display\",\n",
    "      condition_onsetAge_unit=\"onsetAge/unit\",\n",
    "      condition_onsetAge_value=\"onsetAge/value\",\n",
    "      patient_id=\"subject/reference\"\n",
    "    )\n",
    "  )\n",
    ")\n",
    "condition_data <- condition_data |>\n",
    "  mutate(patient_id = gsub(\"Patient/\", \"\", patient_id))\n",
    "\n",
    "procedure_url <- fhir_url(\n",
    "  url=endpoint,\n",
    "  resource=\"Procedure\",\n",
    "  parameters=c(\n",
    "    subject=patient_id_join\n",
    "  )\n",
    ")\n",
    "procedure_data <- fhir_crack(\n",
    "  bundles=fhir_search(procedure_url, verbose=0),\n",
    "  design=fhir_table_description(\n",
    "    resource=\"Procedure\",\n",
    "    cols=c(\n",
    "      \"procedure_code\"=\"code/coding/code\",\n",
    "      \"procedure_display\"=\"code/coding/display\",\n",
    "      \"procedure_system\"=\"code/coding/system\",\n",
    "      \"procedure_id\"=\"id\",\n",
    "      \"patient_id\"=\"subject/reference\"\n",
    "    )\n",
    "  )\n",
    ") |>\n",
    "  mutate(patient_id = gsub(\"Patient/\", \"\", patient_id))\n",
    "\n",
    "joined_clinical_data <- joined_subject_data |>\n",
    "  left_join(condition_data, by=\"patient_id\") |>\n",
    "  left_join(procedure_data, by=\"patient_id\")\n",
    "joined_clinical_data"
   ]
  }
 ],
 "metadata": {
  "colab": {
   "provenance": []
  },
  "kernelspec": {
   "display_name": "R",
   "language": "R",
   "name": "ir"
  },
  "language_info": {
   "codemirror_mode": "r",
   "file_extension": ".r",
   "mimetype": "text/x-r-source",
   "name": "R",
   "pygments_lexer": "r",
   "version": "4.3.1"
  }
 },
 "nbformat": 4,
 "nbformat_minor": 4
}
